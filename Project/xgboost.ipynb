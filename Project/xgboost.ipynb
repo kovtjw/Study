{
 "cells": [
  {
   "cell_type": "markdown",
   "metadata": {},
   "source": [
    "# xgboost\n",
    "\n",
    "- 트리 기반의 앙상블 기법\n",
    "- 분류에 있어서 다른 알고리즘보다 좋은 예측 성능을 보여줌\n",
    "- XGBoost는 GBM 기반이지만, GBM의 단점인 느린 수행 시간과 과적합 규제 부재 등의 문제를 해결함\n",
    "- 병렬 GPU 환경에서 빠르게 학습 가능"
   ]
  },
  {
   "cell_type": "code",
   "execution_count": 20,
   "metadata": {},
   "outputs": [],
   "source": [
    "from sklearn.datasets import load_iris, load_wine, load_breast_cancer\n",
    "from sklearn.datasets import load_boston, load_diabetes\n",
    "from sklearn.model_selection import train_test_split, cross_validate\n",
    "from sklearn.metrics import accuracy_score, precision_score, recall_score\n",
    "\n",
    "import xgboost as xgb\n",
    "from xgboost import XGBRFClassifier,XGBClassifier, XGBRegressor\n",
    "from xgboost import plot_importance, plot_tree\n",
    "\n",
    "import graphviz\n",
    "import matplotlib.pyplot as plt\n",
    "plt.style.use(['seaborn-whitegrid'])\n",
    " "
   ]
  },
  {
   "cell_type": "code",
   "execution_count": 2,
   "metadata": {},
   "outputs": [],
   "source": [
    "# 파이썬 기반 xgboost : 기존 xgboost는 c언어로 작성이 되어 있다. \n",
    "# 파이썬 기반의 xgboost는 고유의 DMatrix라는 구조(클래스)를 가지고 있다.  \n",
    "cancer = load_breast_cancer()\n",
    "\n",
    "x_train,x_test, y_train, y_test = train_test_split(cancer.data, cancer.target, test_size=0.2, random_state=42)\n",
    "dtrain = xgb.DMatrix(data=x_train, label=y_train) \n",
    "dtest = xgb.DMatrix(data= x_test, label = y_test)"
   ]
  },
  {
   "cell_type": "code",
   "execution_count": 3,
   "metadata": {},
   "outputs": [],
   "source": [
    "params = {\n",
    "    'max_depth':3,\n",
    "    'eta':0.1,\n",
    "    'objective' : 'binary:logistic',\n",
    "    'eval_metric': 'logloss',\n",
    "    'early_stopping': 100,\n",
    "}\n",
    "num_rounds = 400"
   ]
  },
  {
   "cell_type": "code",
   "execution_count": 4,
   "metadata": {},
   "outputs": [
    {
     "name": "stdout",
     "output_type": "stream",
     "text": [
      "[15:30:33] WARNING: C:/Users/Administrator/workspace/xgboost-win64_release_1.5.1/src/learner.cc:576: \n",
      "Parameters: { \"early_stopping\" } might not be used.\n",
      "\n",
      "  This could be a false alarm, with some parameters getting used by language bindings but\n",
      "  then being mistakenly passed down to XGBoost core, or some parameter actually being used\n",
      "  but getting flagged wrongly here. Please open an issue if you find any such cases.\n",
      "\n",
      "\n",
      "[0]\ttrain-logloss:0.60961\teval-logloss:0.61443\n",
      "[1]\ttrain-logloss:0.54076\teval-logloss:0.54721\n",
      "[2]\ttrain-logloss:0.48407\teval-logloss:0.49559\n",
      "[3]\ttrain-logloss:0.43324\teval-logloss:0.44659\n",
      "[4]\ttrain-logloss:0.38985\teval-logloss:0.40682\n",
      "[5]\ttrain-logloss:0.35213\teval-logloss:0.37082\n",
      "[6]\ttrain-logloss:0.31949\teval-logloss:0.34032\n",
      "[7]\ttrain-logloss:0.29139\teval-logloss:0.31559\n",
      "[8]\ttrain-logloss:0.26606\teval-logloss:0.29181\n",
      "[9]\ttrain-logloss:0.24392\teval-logloss:0.27323\n",
      "[10]\ttrain-logloss:0.22408\teval-logloss:0.25490\n",
      "[11]\ttrain-logloss:0.20697\teval-logloss:0.24217\n",
      "[12]\ttrain-logloss:0.19128\teval-logloss:0.22577\n",
      "[13]\ttrain-logloss:0.17705\teval-logloss:0.21283\n",
      "[14]\ttrain-logloss:0.16451\teval-logloss:0.19947\n",
      "[15]\ttrain-logloss:0.15319\teval-logloss:0.19169\n",
      "[16]\ttrain-logloss:0.14312\teval-logloss:0.18069\n",
      "[17]\ttrain-logloss:0.13410\teval-logloss:0.17432\n",
      "[18]\ttrain-logloss:0.12522\teval-logloss:0.16573\n",
      "[19]\ttrain-logloss:0.11687\teval-logloss:0.15517\n",
      "[20]\ttrain-logloss:0.10980\teval-logloss:0.15131\n",
      "[21]\ttrain-logloss:0.10320\teval-logloss:0.14297\n",
      "[22]\ttrain-logloss:0.09739\teval-logloss:0.14038\n",
      "[23]\ttrain-logloss:0.09170\teval-logloss:0.13659\n",
      "[24]\ttrain-logloss:0.08657\teval-logloss:0.13153\n",
      "[25]\ttrain-logloss:0.08167\teval-logloss:0.12885\n",
      "[26]\ttrain-logloss:0.07742\teval-logloss:0.12498\n",
      "[27]\ttrain-logloss:0.07337\teval-logloss:0.12312\n",
      "[28]\ttrain-logloss:0.06981\teval-logloss:0.11902\n",
      "[29]\ttrain-logloss:0.06634\teval-logloss:0.11769\n",
      "[30]\ttrain-logloss:0.06332\teval-logloss:0.11719\n",
      "[31]\ttrain-logloss:0.06013\teval-logloss:0.11469\n",
      "[32]\ttrain-logloss:0.05760\teval-logloss:0.11483\n",
      "[33]\ttrain-logloss:0.05490\teval-logloss:0.11278\n",
      "[34]\ttrain-logloss:0.05249\teval-logloss:0.11100\n",
      "[35]\ttrain-logloss:0.04981\teval-logloss:0.11050\n",
      "[36]\ttrain-logloss:0.04789\teval-logloss:0.11044\n",
      "[37]\ttrain-logloss:0.04577\teval-logloss:0.10774\n",
      "[38]\ttrain-logloss:0.04361\teval-logloss:0.10780\n",
      "[39]\ttrain-logloss:0.04212\teval-logloss:0.10597\n",
      "[40]\ttrain-logloss:0.04050\teval-logloss:0.10549\n",
      "[41]\ttrain-logloss:0.03885\teval-logloss:0.10659\n",
      "[42]\ttrain-logloss:0.03726\teval-logloss:0.10633\n",
      "[43]\ttrain-logloss:0.03566\teval-logloss:0.10575\n",
      "[44]\ttrain-logloss:0.03442\teval-logloss:0.10479\n",
      "[45]\ttrain-logloss:0.03314\teval-logloss:0.10498\n",
      "[46]\ttrain-logloss:0.03222\teval-logloss:0.10376\n",
      "[47]\ttrain-logloss:0.03105\teval-logloss:0.10413\n",
      "[48]\ttrain-logloss:0.02994\teval-logloss:0.10416\n",
      "[49]\ttrain-logloss:0.02903\teval-logloss:0.10393\n",
      "[50]\ttrain-logloss:0.02820\teval-logloss:0.10280\n",
      "[51]\ttrain-logloss:0.02727\teval-logloss:0.10118\n",
      "[52]\ttrain-logloss:0.02638\teval-logloss:0.10162\n",
      "[53]\ttrain-logloss:0.02567\teval-logloss:0.10110\n",
      "[54]\ttrain-logloss:0.02491\teval-logloss:0.10166\n",
      "[55]\ttrain-logloss:0.02414\teval-logloss:0.10151\n",
      "[56]\ttrain-logloss:0.02350\teval-logloss:0.10074\n",
      "[57]\ttrain-logloss:0.02298\teval-logloss:0.10201\n",
      "[58]\ttrain-logloss:0.02233\teval-logloss:0.10194\n",
      "[59]\ttrain-logloss:0.02177\teval-logloss:0.10158\n",
      "[60]\ttrain-logloss:0.02120\teval-logloss:0.10135\n",
      "[61]\ttrain-logloss:0.02065\teval-logloss:0.10024\n",
      "[62]\ttrain-logloss:0.02019\teval-logloss:0.09891\n",
      "[63]\ttrain-logloss:0.01973\teval-logloss:0.09916\n",
      "[64]\ttrain-logloss:0.01924\teval-logloss:0.09932\n",
      "[65]\ttrain-logloss:0.01888\teval-logloss:0.09914\n",
      "[66]\ttrain-logloss:0.01844\teval-logloss:0.10027\n",
      "[67]\ttrain-logloss:0.01805\teval-logloss:0.10109\n",
      "[68]\ttrain-logloss:0.01771\teval-logloss:0.10167\n",
      "[69]\ttrain-logloss:0.01730\teval-logloss:0.10187\n",
      "[70]\ttrain-logloss:0.01700\teval-logloss:0.10171\n",
      "[71]\ttrain-logloss:0.01671\teval-logloss:0.10082\n",
      "[72]\ttrain-logloss:0.01637\teval-logloss:0.10062\n",
      "[73]\ttrain-logloss:0.01602\teval-logloss:0.09954\n",
      "[74]\ttrain-logloss:0.01570\teval-logloss:0.09882\n",
      "[75]\ttrain-logloss:0.01534\teval-logloss:0.09954\n",
      "[76]\ttrain-logloss:0.01504\teval-logloss:0.10005\n",
      "[77]\ttrain-logloss:0.01470\teval-logloss:0.10143\n",
      "[78]\ttrain-logloss:0.01453\teval-logloss:0.10187\n",
      "[79]\ttrain-logloss:0.01435\teval-logloss:0.10158\n",
      "[80]\ttrain-logloss:0.01412\teval-logloss:0.10115\n",
      "[81]\ttrain-logloss:0.01394\teval-logloss:0.10017\n",
      "[82]\ttrain-logloss:0.01367\teval-logloss:0.10086\n",
      "[83]\ttrain-logloss:0.01349\teval-logloss:0.10086\n",
      "[84]\ttrain-logloss:0.01321\teval-logloss:0.10222\n",
      "[85]\ttrain-logloss:0.01302\teval-logloss:0.10156\n",
      "[86]\ttrain-logloss:0.01281\teval-logloss:0.10266\n",
      "[87]\ttrain-logloss:0.01268\teval-logloss:0.10308\n",
      "[88]\ttrain-logloss:0.01256\teval-logloss:0.10235\n",
      "[89]\ttrain-logloss:0.01243\teval-logloss:0.10207\n",
      "[90]\ttrain-logloss:0.01230\teval-logloss:0.10142\n",
      "[91]\ttrain-logloss:0.01215\teval-logloss:0.10146\n",
      "[92]\ttrain-logloss:0.01199\teval-logloss:0.10100\n",
      "[93]\ttrain-logloss:0.01187\teval-logloss:0.10126\n",
      "[94]\ttrain-logloss:0.01171\teval-logloss:0.10212\n",
      "[95]\ttrain-logloss:0.01161\teval-logloss:0.10146\n",
      "[96]\ttrain-logloss:0.01149\teval-logloss:0.10140\n",
      "[97]\ttrain-logloss:0.01139\teval-logloss:0.10092\n",
      "[98]\ttrain-logloss:0.01128\teval-logloss:0.10118\n",
      "[99]\ttrain-logloss:0.01119\teval-logloss:0.10055\n",
      "[100]\ttrain-logloss:0.01108\teval-logloss:0.10097\n",
      "[101]\ttrain-logloss:0.01098\teval-logloss:0.10075\n",
      "[102]\ttrain-logloss:0.01090\teval-logloss:0.10061\n",
      "[103]\ttrain-logloss:0.01079\teval-logloss:0.10059\n",
      "[104]\ttrain-logloss:0.01065\teval-logloss:0.10141\n",
      "[105]\ttrain-logloss:0.01054\teval-logloss:0.10146\n",
      "[106]\ttrain-logloss:0.01046\teval-logloss:0.10101\n",
      "[107]\ttrain-logloss:0.01040\teval-logloss:0.10102\n",
      "[108]\ttrain-logloss:0.01032\teval-logloss:0.10086\n",
      "[109]\ttrain-logloss:0.01022\teval-logloss:0.10091\n",
      "[110]\ttrain-logloss:0.01009\teval-logloss:0.10111\n",
      "[111]\ttrain-logloss:0.01000\teval-logloss:0.10136\n",
      "[112]\ttrain-logloss:0.00989\teval-logloss:0.10216\n",
      "[113]\ttrain-logloss:0.00981\teval-logloss:0.10155\n",
      "[114]\ttrain-logloss:0.00974\teval-logloss:0.10113\n",
      "[115]\ttrain-logloss:0.00966\teval-logloss:0.10114\n",
      "[116]\ttrain-logloss:0.00957\teval-logloss:0.10119\n",
      "[117]\ttrain-logloss:0.00954\teval-logloss:0.10109\n",
      "[118]\ttrain-logloss:0.00946\teval-logloss:0.10053\n",
      "[119]\ttrain-logloss:0.00935\teval-logloss:0.10016\n",
      "[120]\ttrain-logloss:0.00931\teval-logloss:0.10015\n",
      "[121]\ttrain-logloss:0.00922\teval-logloss:0.10021\n",
      "[122]\ttrain-logloss:0.00913\teval-logloss:0.10025\n",
      "[123]\ttrain-logloss:0.00907\teval-logloss:0.10012\n",
      "[124]\ttrain-logloss:0.00900\teval-logloss:0.09960\n"
     ]
    }
   ],
   "source": [
    "evals = [(dtrain, 'train'), (dtest, 'eval')]\n",
    "xgb_model = xgb.train(params=params, dtrain = dtrain, num_boost_round = num_rounds,\n",
    "                      early_stopping_rounds= 50, evals = evals ) "
   ]
  },
  {
   "cell_type": "code",
   "execution_count": 5,
   "metadata": {},
   "outputs": [
    {
     "name": "stdout",
     "output_type": "stream",
     "text": [
      "[0.992 0.001 0.001 0.999 1.    0.001 0.001 0.082 0.257 0.998]\n"
     ]
    }
   ],
   "source": [
    "import numpy as np\n",
    "predicts = xgb_model.predict(dtest)\n",
    "print(np.round(predicts[:10],3))"
   ]
  },
  {
   "cell_type": "code",
   "execution_count": 6,
   "metadata": {},
   "outputs": [
    {
     "name": "stdout",
     "output_type": "stream",
     "text": [
      "[1, 0, 0, 1, 1, 0, 0, 0, 0, 1]\n"
     ]
    }
   ],
   "source": [
    "preds = [1 if x > 0.5 else 0 for x in predicts]\n",
    "print(preds[:10])"
   ]
  },
  {
   "cell_type": "code",
   "execution_count": 7,
   "metadata": {},
   "outputs": [
    {
     "name": "stdout",
     "output_type": "stream",
     "text": [
      "정확도 : 0.9649122807017544\n",
      "정밀도 : 0.958904109589041\n",
      "재현률 : 0.9859154929577465\n"
     ]
    }
   ],
   "source": [
    "print('정확도 : {}'.format(accuracy_score(y_test,preds)))\n",
    "print('정밀도 : {}'.format(precision_score(y_test,preds)))\n",
    "print('재현률 : {}'.format(recall_score(y_test,preds)))\n"
   ]
  },
  {
   "cell_type": "code",
   "execution_count": 8,
   "metadata": {},
   "outputs": [
    {
     "data": {
      "image/png": "[encoded data removed]",
      "text/plain": [
       "<Figure size 720x864 with 1 Axes>"
      ]
     },
     "metadata": {},
     "output_type": "display_data"
    }
   ],
   "source": [
    "fig, ax = plt.subplots(figsize = (10,12))\n",
    "plot_importance(xgb_model, ax=ax);"
   ]
  },
  {
   "cell_type": "code",
   "execution_count": null,
   "metadata": {},
   "outputs": [],
   "source": [
    "# xgboost 는 트리 기반이기 때문에 트리를 보여줄 수 있다. \n",
    "dot_data = xgb.to_graphviz(xgb_model)\n",
    "graph = graphviz.Source(dot_data)\n",
    "graph"
   ]
  },
  {
   "cell_type": "code",
   "execution_count": 10,
   "metadata": {},
   "outputs": [],
   "source": [
    "# xgbclassifier 사이킷 런에서 호환된 xgboost\n",
    "\n",
    "iris = load_iris()\n",
    "x_train,x_test, y_train, y_test = train_test_split(iris.data, iris.target, test_size=0.2, random_state=42)"
   ]
  },
  {
   "cell_type": "code",
   "execution_count": 11,
   "metadata": {},
   "outputs": [
    {
     "name": "stderr",
     "output_type": "stream",
     "text": [
      "C:\\ProgramData\\Anaconda3\\envs\\tf270gpu\\lib\\site-packages\\xgboost\\sklearn.py:1224: UserWarning: The use of label encoder in XGBClassifier is deprecated and will be removed in a future release. To remove this warning, do the following: 1) Pass option use_label_encoder=False when constructing XGBClassifier object; and 2) Encode your labels (y) as integers starting with 0, i.e. 0, 1, 2, ..., [num_class - 1].\n",
      "  warnings.warn(label_encoder_deprecation_msg, UserWarning)\n"
     ]
    },
    {
     "name": "stdout",
     "output_type": "stream",
     "text": [
      "[15:30:44] WARNING: C:/Users/Administrator/workspace/xgboost-win64_release_1.5.1/src/learner.cc:1115: Starting in XGBoost 1.3.0, the default evaluation metric used with the objective 'multi:softprob' was changed from 'merror' to 'mlogloss'. Explicitly set eval_metric if you'd like to restore the old behavior.\n"
     ]
    }
   ],
   "source": [
    "xgbc = XGBClassifier(n_estimators =400, learning_rate = 0.1, max_depth = 3)\n",
    "xgbc.fit(x_train, y_train)\n",
    "preds = xgbc.predict(x_test)\n",
    "preds_proba = xgbc.predict_proba(x_test)[:,1]\n"
   ]
  },
  {
   "cell_type": "code",
   "execution_count": 12,
   "metadata": {},
   "outputs": [
    {
     "name": "stderr",
     "output_type": "stream",
     "text": [
      "C:\\ProgramData\\Anaconda3\\envs\\tf270gpu\\lib\\site-packages\\xgboost\\sklearn.py:1224: UserWarning: The use of label encoder in XGBClassifier is deprecated and will be removed in a future release. To remove this warning, do the following: 1) Pass option use_label_encoder=False when constructing XGBClassifier object; and 2) Encode your labels (y) as integers starting with 0, i.e. 0, 1, 2, ..., [num_class - 1].\n",
      "  warnings.warn(label_encoder_deprecation_msg, UserWarning)\n"
     ]
    },
    {
     "name": "stdout",
     "output_type": "stream",
     "text": [
      "[15:30:44] WARNING: C:/Users/Administrator/workspace/xgboost-win64_release_1.5.1/src/learner.cc:1115: Starting in XGBoost 1.3.0, the default evaluation metric used with the objective 'multi:softprob' was changed from 'merror' to 'mlogloss'. Explicitly set eval_metric if you'd like to restore the old behavior.\n"
     ]
    },
    {
     "name": "stderr",
     "output_type": "stream",
     "text": [
      "C:\\ProgramData\\Anaconda3\\envs\\tf270gpu\\lib\\site-packages\\xgboost\\sklearn.py:1224: UserWarning: The use of label encoder in XGBClassifier is deprecated and will be removed in a future release. To remove this warning, do the following: 1) Pass option use_label_encoder=False when constructing XGBClassifier object; and 2) Encode your labels (y) as integers starting with 0, i.e. 0, 1, 2, ..., [num_class - 1].\n",
      "  warnings.warn(label_encoder_deprecation_msg, UserWarning)\n"
     ]
    },
    {
     "name": "stdout",
     "output_type": "stream",
     "text": [
      "[15:30:45] WARNING: C:/Users/Administrator/workspace/xgboost-win64_release_1.5.1/src/learner.cc:1115: Starting in XGBoost 1.3.0, the default evaluation metric used with the objective 'multi:softprob' was changed from 'merror' to 'mlogloss'. Explicitly set eval_metric if you'd like to restore the old behavior.\n"
     ]
    },
    {
     "name": "stderr",
     "output_type": "stream",
     "text": [
      "C:\\ProgramData\\Anaconda3\\envs\\tf270gpu\\lib\\site-packages\\xgboost\\sklearn.py:1224: UserWarning: The use of label encoder in XGBClassifier is deprecated and will be removed in a future release. To remove this warning, do the following: 1) Pass option use_label_encoder=False when constructing XGBClassifier object; and 2) Encode your labels (y) as integers starting with 0, i.e. 0, 1, 2, ..., [num_class - 1].\n",
      "  warnings.warn(label_encoder_deprecation_msg, UserWarning)\n"
     ]
    },
    {
     "name": "stdout",
     "output_type": "stream",
     "text": [
      "[15:30:45] WARNING: C:/Users/Administrator/workspace/xgboost-win64_release_1.5.1/src/learner.cc:1115: Starting in XGBoost 1.3.0, the default evaluation metric used with the objective 'multi:softprob' was changed from 'merror' to 'mlogloss'. Explicitly set eval_metric if you'd like to restore the old behavior.\n"
     ]
    },
    {
     "name": "stderr",
     "output_type": "stream",
     "text": [
      "C:\\ProgramData\\Anaconda3\\envs\\tf270gpu\\lib\\site-packages\\xgboost\\sklearn.py:1224: UserWarning: The use of label encoder in XGBClassifier is deprecated and will be removed in a future release. To remove this warning, do the following: 1) Pass option use_label_encoder=False when constructing XGBClassifier object; and 2) Encode your labels (y) as integers starting with 0, i.e. 0, 1, 2, ..., [num_class - 1].\n",
      "  warnings.warn(label_encoder_deprecation_msg, UserWarning)\n"
     ]
    },
    {
     "name": "stdout",
     "output_type": "stream",
     "text": [
      "[15:30:45] WARNING: C:/Users/Administrator/workspace/xgboost-win64_release_1.5.1/src/learner.cc:1115: Starting in XGBoost 1.3.0, the default evaluation metric used with the objective 'multi:softprob' was changed from 'merror' to 'mlogloss'. Explicitly set eval_metric if you'd like to restore the old behavior.\n"
     ]
    },
    {
     "name": "stderr",
     "output_type": "stream",
     "text": [
      "C:\\ProgramData\\Anaconda3\\envs\\tf270gpu\\lib\\site-packages\\xgboost\\sklearn.py:1224: UserWarning: The use of label encoder in XGBClassifier is deprecated and will be removed in a future release. To remove this warning, do the following: 1) Pass option use_label_encoder=False when constructing XGBClassifier object; and 2) Encode your labels (y) as integers starting with 0, i.e. 0, 1, 2, ..., [num_class - 1].\n",
      "  warnings.warn(label_encoder_deprecation_msg, UserWarning)\n"
     ]
    },
    {
     "name": "stdout",
     "output_type": "stream",
     "text": [
      "[15:30:46] WARNING: C:/Users/Administrator/workspace/xgboost-win64_release_1.5.1/src/learner.cc:1115: Starting in XGBoost 1.3.0, the default evaluation metric used with the objective 'multi:softprob' was changed from 'merror' to 'mlogloss'. Explicitly set eval_metric if you'd like to restore the old behavior.\n",
      "avg fit time: 0.29959888458251954 (+/- 0.009965457902497046)\n",
      "avg score time: 0.003590297698974609 (+/- 0.0004888697566418616)\n",
      "avg test score: 0.96 (+/- 0.024944382578492935)\n"
     ]
    }
   ],
   "source": [
    "cross_val = cross_validate(\n",
    "    estimator = xgbc,\n",
    "    X=iris.data, y=iris.target,\n",
    "    cv = 5\n",
    ")\n",
    "print('avg fit time: {} (+/- {})'.format(cross_val['fit_time'].mean(), cross_val['fit_time'].std()))\n",
    "print('avg score time: {} (+/- {})'.format(cross_val['score_time'].mean(), cross_val['score_time'].std()))\n",
    "print('avg test score: {} (+/- {})'.format(cross_val['test_score'].mean(), cross_val['test_score'].std()))\n"
   ]
  },
  {
   "cell_type": "code",
   "execution_count": 14,
   "metadata": {},
   "outputs": [
    {
     "data": {
      "image/png": "[encoded data removed]",
      "text/plain": [
       "<Figure size 720x864 with 1 Axes>"
      ]
     },
     "metadata": {},
     "output_type": "display_data"
    }
   ],
   "source": [
    "fig, ax = plt.subplots(figsize = (10,12))\n",
    "plot_importance(xgbc, ax=ax);"
   ]
  },
  {
   "cell_type": "code",
   "execution_count": null,
   "metadata": {},
   "outputs": [],
   "source": [
    "dot_data = xgb.to_graphviz(xgbc)\n",
    "graph = graphviz.Source(dot_data)\n",
    "print(graph)"
   ]
  },
  {
   "cell_type": "code",
   "execution_count": 24,
   "metadata": {},
   "outputs": [
    {
     "name": "stderr",
     "output_type": "stream",
     "text": [
      "C:\\ProgramData\\Anaconda3\\envs\\tf270gpu\\lib\\site-packages\\sklearn\\utils\\deprecation.py:87: FutureWarning: Function load_boston is deprecated; `load_boston` is deprecated in 1.0 and will be removed in 1.2.\n",
      "\n",
      "    The Boston housing prices dataset has an ethical problem. You can refer to\n",
      "    the documentation of this function for further details.\n",
      "\n",
      "    The scikit-learn maintainers therefore strongly discourage the use of this\n",
      "    dataset unless the purpose of the code is to study and educate about\n",
      "    ethical issues in data science and machine learning.\n",
      "\n",
      "    In this special case, you can fetch the dataset from the original\n",
      "    source::\n",
      "\n",
      "        import pandas as pd\n",
      "        import numpy as np\n",
      "\n",
      "\n",
      "        data_url = \"http://lib.stat.cmu.edu/datasets/boston\"\n",
      "        raw_df = pd.read_csv(data_url, sep=\"\\s+\", skiprows=22, header=None)\n",
      "        data = np.hstack([raw_df.values[::2, :], raw_df.values[1::2, :2]])\n",
      "        target = raw_df.values[1::2, 2]\n",
      "\n",
      "    Alternative datasets include the California housing dataset (i.e.\n",
      "    :func:`~sklearn.datasets.fetch_california_housing`) and the Ames housing\n",
      "    dataset. You can load the datasets as follows::\n",
      "\n",
      "        from sklearn.datasets import fetch_california_housing\n",
      "        housing = fetch_california_housing()\n",
      "\n",
      "    for the California housing dataset and::\n",
      "\n",
      "        from sklearn.datasets import fetch_openml\n",
      "        housing = fetch_openml(name=\"house_prices\", as_frame=True)\n",
      "\n",
      "    for the Ames housing dataset.\n",
      "    \n",
      "  warnings.warn(msg, category=FutureWarning)\n"
     ]
    }
   ],
   "source": [
    "# xgbregressor  >> 보스턴\n",
    "\n",
    "boston = load_boston()\n",
    "x_train,x_test, y_train, y_test = train_test_split(boston.data, boston.target, test_size=0.2, random_state=42)"
   ]
  },
  {
   "cell_type": "code",
   "execution_count": 27,
   "metadata": {},
   "outputs": [],
   "source": [
    "xgbr = XGBRegressor(n_estimators =400, learning_rate = 0.1, max_depth = 3, objective='reg:squarederror')\n",
    "xgbr.fit(x_train, y_train)\n",
    "preds = xgbr.predict(x_test)\n",
    "\n"
   ]
  },
  {
   "cell_type": "code",
   "execution_count": 28,
   "metadata": {},
   "outputs": [
    {
     "name": "stdout",
     "output_type": "stream",
     "text": [
      "avg fit time: 0.24534382820129394 (+/- 0.004323760201807227)\n",
      "avg score time: 0.004987049102783203 (+/- 3.1629798797182086e-07)\n",
      "avg test score: 0.6884390736705599 (+/- 0.1649974770303876)\n"
     ]
    }
   ],
   "source": [
    "cross_val = cross_validate(\n",
    "    estimator = xgbr,\n",
    "    X=boston.data, y=boston.target,\n",
    "    cv = 5\n",
    ")\n",
    "print('avg fit time: {} (+/- {})'.format(cross_val['fit_time'].mean(), cross_val['fit_time'].std()))\n",
    "print('avg score time: {} (+/- {})'.format(cross_val['score_time'].mean(), cross_val['score_time'].std()))\n",
    "print('avg test score: {} (+/- {})'.format(cross_val['test_score'].mean(), cross_val['test_score'].std()))\n"
   ]
  },
  {
   "cell_type": "code",
   "execution_count": 30,
   "metadata": {},
   "outputs": [
    {
     "data": {
      "image/png": "[encoded data removed]",
      "text/plain": [
       "<Figure size 720x864 with 1 Axes>"
      ]
     },
     "metadata": {},
     "output_type": "display_data"
    }
   ],
   "source": [
    "fig, ax = plt.subplots(figsize = (10,12))\n",
    "plot_importance(xgbr, ax=ax);"
   ]
  },
  {
   "cell_type": "code",
   "execution_count": null,
   "metadata": {},
   "outputs": [],
   "source": [
    "dot_data = xgb.to_graphviz(xgbr)\n",
    "graph = graphviz.Source(dot_data)\n",
    "graph"
   ]
  }
 ],
 "metadata": {
  "interpreter": {
   "hash": "3b2a3e2f2f3becee12495ea02e16c44ac6a87253b3da619be1b2ce1aceff9a27"
  },
  "kernelspec": {
   "display_name": "Python 3.9.7 64-bit ('tf270gpu': conda)",
   "language": "python",
   "name": "python3"
  },
  "language_info": {
   "codemirror_mode": {
    "name": "ipython",
    "version": 3
   },
   "file_extension": ".py",
   "mimetype": "text/x-python",
   "name": "python",
   "nbconvert_exporter": "python",
   "pygments_lexer": "ipython3",
   "version": "3.9.7"
  },
  "orig_nbformat": 4
 },
 "nbformat": 4,
 "nbformat_minor": 2
}
