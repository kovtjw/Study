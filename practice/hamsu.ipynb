{
 "cells": [
  {
   "cell_type": "code",
   "execution_count": 6,
   "metadata": {},
   "outputs": [],
   "source": [
    "import numpy as np\n",
    "SD = range(20)"
   ]
  },
  {
   "cell_type": "code",
   "execution_count": 7,
   "metadata": {},
   "outputs": [
    {
     "data": {
      "text/plain": [
       "range(0, 20)"
      ]
     },
     "execution_count": 7,
     "metadata": {},
     "output_type": "execute_result"
    }
   ],
   "source": [
    "SD"
   ]
  },
  {
   "cell_type": "code",
   "execution_count": 8,
   "metadata": {},
   "outputs": [
    {
     "data": {
      "text/plain": [
       "(array([[ 0,  1,  2,  3],\n",
       "        [ 1,  2,  3,  4],\n",
       "        [ 2,  3,  4,  5],\n",
       "        [ 3,  4,  5,  6],\n",
       "        [ 4,  5,  6,  7],\n",
       "        [ 5,  6,  7,  8],\n",
       "        [ 6,  7,  8,  9],\n",
       "        [ 7,  8,  9, 10],\n",
       "        [ 8,  9, 10, 11],\n",
       "        [ 9, 10, 11, 12],\n",
       "        [10, 11, 12, 13],\n",
       "        [11, 12, 13, 14],\n",
       "        [12, 13, 14, 15],\n",
       "        [13, 14, 15, 16],\n",
       "        [14, 15, 16, 17],\n",
       "        [15, 16, 17, 18]]),\n",
       " '\\n',\n",
       " array([ 4,  5,  6,  7,  8,  9, 10, 11, 12, 13, 14, 15, 16, 17, 18, 19]))"
      ]
     },
     "execution_count": 8,
     "metadata": {},
     "output_type": "execute_result"
    }
   ],
   "source": [
    "def split_xy (dataset, time_steps):\n",
    "    x,y = list(), list()\n",
    "    for i in range(len(dataset)):\n",
    "        end_number = i + time_steps\n",
    "        if end_number > len(dataset) -1 :\n",
    "            break\n",
    "        tmp_x,tmp_y = dataset[i:end_number], dataset[end_number]\n",
    "        x.append(tmp_x)\n",
    "        y.append(tmp_y)\n",
    "    return np.array(x), np.array(y)\n",
    "x, y = split_xy(SD,4)\n",
    "x,'\\n',y"
   ]
  },
  {
   "cell_type": "code",
   "execution_count": null,
   "metadata": {},
   "outputs": [],
   "source": []
  }
 ],
 "metadata": {
  "interpreter": {
   "hash": "b3ba2566441a7c06988d0923437866b63cedc61552a5af99d1f4fb67d367b25f"
  },
  "kernelspec": {
   "display_name": "Python 3.9.7 64-bit ('base': conda)",
   "language": "python",
   "name": "python3"
  },
  "language_info": {
   "codemirror_mode": {
    "name": "ipython",
    "version": 3
   },
   "file_extension": ".py",
   "mimetype": "text/x-python",
   "name": "python",
   "nbconvert_exporter": "python",
   "pygments_lexer": "ipython3",
   "version": "3.9.7"
  },
  "orig_nbformat": 4
 },
 "nbformat": 4,
 "nbformat_minor": 2
}
