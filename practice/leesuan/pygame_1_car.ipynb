{
 "cells": [
  {
   "cell_type": "code",
   "execution_count": 2,
   "metadata": {},
   "outputs": [],
   "source": [
    "import pygame\n",
    "import random\n",
    "from time import sleep\n"
   ]
  },
  {
   "cell_type": "code",
   "execution_count": 4,
   "metadata": {},
   "outputs": [],
   "source": [
    "WINDOW_WIDTH = 480\n",
    "WINDOW_HEIGHT = 800\n",
    "\n",
    "BLACK = (0,0,0)\n",
    "WHITE = (255,255,255)\n",
    "GRAY = (150,150,150)\n",
    "RED = (255,0,0)\n",
    "\n",
    "class Car :\n",
    "    image_car = ['RacingCar01.png','RacingCar02.png','RacingCar03.png','RacingCar04.png','RacingCar05.png',\\\n",
    "                 'RacingCar06.png','RacingCar07.png','RacingCar08.png','RacingCar09.png','RacingCar10.png',\\\n",
    "                 'RacingCar11.png','RacingCar12.png','RacingCar13.png','RacingCar14.png','RacingCar15.png',\\\n",
    "                 'RacingCar16.png','RacingCar17.png','RacingCar18.png','RacingCar19.png','RacingCar20.png',]\n",
    "    def __init__(self, x=0, y=0,dx=0,dy = 0):\n",
    "        self.image = ''\n",
    "        self.x = x \n",
    "        self.y = y\n",
    "        self.dx = dx\n",
    "        self.dy = dy\n",
    "        \n",
    "    def load_image(self):\n",
    "        self.image = pygame.image.load(random.choice(self.image_car))\n",
    "        self.width = self.image.get_rect().size[0]\n",
    "        self.height = self.image.get_rect().size[1]\n",
    "        \n",
    "    def draw_image(self):\n",
    "        screen.blit(self.image,[self.x,self.y])\n",
    "        \n",
    "    def move_x(self):\n",
    "        self.x += self.dx\n",
    "        \n",
    "    def move_y(self):\n",
    "        self.y += self.dy\n",
    "    \n",
    "    def check_out_of_screen(self):\n",
    "        if self.x+self.width > WINDOW_WIDTH or self.x < 0:\n",
    "            self.x -= self.dx\n",
    "    def check_crash(self, car):\n",
    "        if (self.x+self.width > car.x) and (self.x < car.x+car.width) and (self.y < car.y+car.height) and (self.y+self.height > car.y):\n",
    "            return True\n",
    "        else:\n",
    "            return False\n",
    "        \n",
    "if __name__ == '__main__': \n",
    "    pygame.init()\n",
    "    screen = pygame.display.set_mode((WINDOW_WIDTH, WINDOW_HEIGHT))\n",
    "    pygame.display.set_caption('pycar : Racing Car Game')\n",
    "    clock = pygame.time.Clock()\n",
    "    \n",
    "    pygame.mixer.music.load('race.wav')\n",
    "    sound_crash = pygame.mixer.Sound('crash.wav')\n",
    "    sound_engine = pygame.mixer.Sound('engine.wav')\n",
    "    \n",
    "    player = Car(WINDOW_WIDTH / 2),(WINDOW_HEIGHT - 150),0,0)\n",
    "    player.load_image()\n",
    "    \n",
    "    cars = []\n",
    "    car_count = 3\n",
    "    for i in range(car_count):\n",
    "        x = random.randrange(0, WINDOW_WIDTH - 55)\n",
    "        y = random.randrange(-15,-50)\n",
    "        car = Car(x,y, 0, random.randit(5,10)) \n",
    "        car.load_image()\n",
    "        cars.append(car)\n",
    "        \n",
    "\n",
    "                                                                                                           "
   ]
  },
  {
   "cell_type": "code",
   "execution_count": null,
   "metadata": {},
   "outputs": [],
   "source": []
  }
 ],
 "metadata": {
  "interpreter": {
   "hash": "b3ba2566441a7c06988d0923437866b63cedc61552a5af99d1f4fb67d367b25f"
  },
  "kernelspec": {
   "display_name": "Python 3.9.7 64-bit ('base': conda)",
   "language": "python",
   "name": "python3"
  },
  "language_info": {
   "codemirror_mode": {
    "name": "ipython",
    "version": 3
   },
   "file_extension": ".py",
   "mimetype": "text/x-python",
   "name": "python",
   "nbconvert_exporter": "python",
   "pygments_lexer": "ipython3",
   "version": "3.9.7"
  },
  "orig_nbformat": 4
 },
 "nbformat": 4,
 "nbformat_minor": 2
}
