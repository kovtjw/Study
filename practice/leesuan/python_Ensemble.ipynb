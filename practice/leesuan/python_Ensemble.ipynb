{
 "cells": [
  {
   "cell_type": "markdown",
   "metadata": {},
   "source": [
    "# 앙상블(Ensemble)\n",
    "\n",
    "일반화와 강건성(Robustness)을 향상시키기 위해 여러 모델의 예측 값을 결합하는 방법\n",
    "앙상블에는 크게 두 가지 종류가 존재\n",
    "\n",
    "1) 평균 방법\n",
    "여러개의 추정값을 독립적으로 구한 뒤 평균을 취함\n",
    "결합 추정값은 분산이 줄어들기 때문에 단일 추정값보다 좋은 성능을 보임\n",
    "\n",
    "\n",
    "2) 부스팅 방법\n",
    "순차적으로 모델 생성\n",
    "결합된 모델의 편향을 감소 시키기 위해 노력\n",
    "부스팅 방법의 목표는 여러개의 약한 모델들을 결합해 하나의 강력한 앙상블 모델을 구축하는 것"
   ]
  },
  {
   "cell_type": "markdown",
   "metadata": {},
   "source": [
    "# Bagging meta-estimator\n",
    "\n",
    "Bagging은 bootstap aggregating의 줄임말이다.\n",
    "원래 훈련 데이터셋의 일부를 사용해 여러 모델을 훈련\n",
    "각각의 결과를 결합해 최종 결과를 생성\n",
    "분산을 줄이고 과적합을 막음\n",
    "강력하고 복잡한 모델에서 잘 동작함 \n",
    "(다른 머신러닝 모델에 비교해서 굉장히 우수한 결과치를 산출함)"
   ]
  },
  {
   "cell_type": "code",
   "execution_count": 88,
   "metadata": {},
   "outputs": [],
   "source": [
    "from sklearn.datasets import load_iris, load_wine, load_breast_cancer,load_boston, load_diabetes\n",
    "from sklearn.preprocessing import StandardScaler\n",
    "from sklearn.pipeline import make_pipeline\n",
    "from sklearn.model_selection import cross_validate\n"
   ]
  },
  {
   "cell_type": "code",
   "execution_count": 17,
   "metadata": {},
   "outputs": [],
   "source": [
    "from sklearn.ensemble import BaggingClassifier\n",
    "from sklearn.neighbors import KNeighborsClassifier\n",
    "from sklearn.svm import SVC\n",
    "from sklearn.tree import DecisionTreeClassifier\n",
    "from sklearn.ensemble import BaggingRegressor\n",
    "from sklearn.neighbors import KNeighborsRegressor\n",
    "from sklearn.svm import SVR\n",
    "from sklearn.tree import DecisionTreeRegressor"
   ]
  },
  {
   "cell_type": "code",
   "execution_count": 62,
   "metadata": {},
   "outputs": [],
   "source": [
    "iris = load_iris()\n",
    "wine = load_wine()\n",
    "cancer = load_breast_cancer()\n",
    "boston = load_boston()"
   ]
  },
  {
   "cell_type": "code",
   "execution_count": 63,
   "metadata": {},
   "outputs": [],
   "source": [
    "base_model= make_pipeline(\n",
    "    StandardScaler(),\n",
    "    KNeighborsClassifier()\n",
    ")\n",
    "\n",
    "bagging_model = BaggingClassifier(base_model,n_estimators=10, max_samples=0.5, max_features= 0.5)"
   ]
  },
  {
   "cell_type": "code",
   "execution_count": 64,
   "metadata": {},
   "outputs": [
    {
     "name": "stdout",
     "output_type": "stream",
     "text": [
      "avg fit time:0.0009975433349609375 (+/-8.792442757885826e-07)\n",
      "avg score time:0.0016016960144042969 (+/-0.000492911277893178)\n",
      "avg test score:0.96 (+/-0.024944382578492935)\n"
     ]
    }
   ],
   "source": [
    "cross_val = cross_validate(\n",
    "    estimator = base_model,\n",
    "    X = iris.data, y = iris.target,\n",
    "    cv = 5\n",
    ")\n",
    "print('avg fit time:{} (+/-{})'.format(cross_val['fit_time'].mean(), cross_val['fit_time'].std()))\n",
    "print('avg score time:{} (+/-{})'.format(cross_val['score_time'].mean(), cross_val['score_time'].std()))\n",
    "print('avg test score:{} (+/-{})'.format(cross_val['test_score'].mean(), cross_val['test_score'].std()))\n",
    "\n",
    "      "
   ]
  },
  {
   "cell_type": "code",
   "execution_count": 65,
   "metadata": {},
   "outputs": [
    {
     "name": "stdout",
     "output_type": "stream",
     "text": [
      "avg fit time:0.013963031768798827 (+/-0.0008924966121626716)\n",
      "avg score time:0.0051859855651855465 (+/-0.00039927971899069716)\n",
      "avg test score:0.9333333333333332 (+/-0.04714045207910316)\n"
     ]
    }
   ],
   "source": [
    "cross_val = cross_validate(\n",
    "    estimator = bagging_model,\n",
    "    X = iris.data, y = iris.target,\n",
    "    cv = 5\n",
    ")\n",
    "print('avg fit time:{} (+/-{})'.format(cross_val['fit_time'].mean(), cross_val['fit_time'].std()))\n",
    "print('avg score time:{} (+/-{})'.format(cross_val['score_time'].mean(), cross_val['score_time'].std()))\n",
    "print('avg test score:{} (+/-{})'.format(cross_val['test_score'].mean(), cross_val['test_score'].std()))\n"
   ]
  },
  {
   "cell_type": "code",
   "execution_count": 66,
   "metadata": {},
   "outputs": [],
   "source": [
    "base_model= make_pipeline(\n",
    "    StandardScaler(),\n",
    "    KNeighborsClassifier()\n",
    ")\n",
    "\n",
    "bagging_model = BaggingClassifier(base_model,n_estimators=10, max_samples=0.5, max_features= 0.5)"
   ]
  },
  {
   "cell_type": "code",
   "execution_count": 67,
   "metadata": {},
   "outputs": [
    {
     "name": "stdout",
     "output_type": "stream",
     "text": [
      "avg fit time:0.0010029792785644532 (+/-1.2066335787359773e-05)\n",
      "avg score time:0.0013904094696044922 (+/-0.00048202051563972883)\n",
      "avg test score:0.9493650793650794 (+/-0.037910929811115976)\n"
     ]
    }
   ],
   "source": [
    "cross_val = cross_validate(\n",
    "    estimator = base_model,\n",
    "    X = wine.data, y = wine.target,\n",
    "    cv = 5\n",
    ")\n",
    "print('avg fit time:{} (+/-{})'.format(cross_val['fit_time'].mean(), cross_val['fit_time'].std()))\n",
    "print('avg score time:{} (+/-{})'.format(cross_val['score_time'].mean(), cross_val['score_time'].std()))\n",
    "print('avg test score:{} (+/-{})'.format(cross_val['test_score'].mean(), cross_val['test_score'].std()))\n"
   ]
  },
  {
   "cell_type": "code",
   "execution_count": 68,
   "metadata": {},
   "outputs": [
    {
     "name": "stdout",
     "output_type": "stream",
     "text": [
      "avg fit time:0.014959621429443359 (+/-0.0017904007116525606)\n",
      "avg score time:0.0053921699523925785 (+/-0.000495144743205177)\n",
      "avg test score:0.9607936507936508 (+/-0.0417058772419794)\n"
     ]
    }
   ],
   "source": [
    "cross_val = cross_validate(\n",
    "    estimator = bagging_model,\n",
    "    X = wine.data, y = wine.target,\n",
    "    cv = 5\n",
    ")\n",
    "print('avg fit time:{} (+/-{})'.format(cross_val['fit_time'].mean(), cross_val['fit_time'].std()))\n",
    "print('avg score time:{} (+/-{})'.format(cross_val['score_time'].mean(), cross_val['score_time'].std()))\n",
    "print('avg test score:{} (+/-{})'.format(cross_val['test_score'].mean(), cross_val['test_score'].std()))\n"
   ]
  },
  {
   "cell_type": "code",
   "execution_count": 69,
   "metadata": {},
   "outputs": [],
   "source": [
    "base_model= make_pipeline(\n",
    "    StandardScaler(),\n",
    "    KNeighborsClassifier()\n",
    ")\n",
    "\n",
    "bagging_model = BaggingClassifier(base_model,n_estimators=10, max_samples=0.5, max_features= 0.5)"
   ]
  },
  {
   "cell_type": "code",
   "execution_count": 70,
   "metadata": {},
   "outputs": [
    {
     "name": "stdout",
     "output_type": "stream",
     "text": [
      "avg fit time:0.000797271728515625 (+/-0.00039864025615481304)\n",
      "avg score time:0.0033844470977783202 (+/-0.0004823650282303032)\n",
      "avg test score:0.9648501785437045 (+/-0.009609970350036127)\n"
     ]
    }
   ],
   "source": [
    "cross_val = cross_validate(\n",
    "    estimator = base_model,\n",
    "    X = cancer.data, y = cancer.target,\n",
    "    cv = 5\n",
    ")\n",
    "print('avg fit time:{} (+/-{})'.format(cross_val['fit_time'].mean(), cross_val['fit_time'].std()))\n",
    "print('avg score time:{} (+/-{})'.format(cross_val['score_time'].mean(), cross_val['score_time'].std()))\n",
    "print('avg test score:{} (+/-{})'.format(cross_val['test_score'].mean(), cross_val['test_score'].std()))\n"
   ]
  },
  {
   "cell_type": "code",
   "execution_count": 71,
   "metadata": {},
   "outputs": [
    {
     "name": "stdout",
     "output_type": "stream",
     "text": [
      "avg fit time:0.01555027961730957 (+/-0.0008097594175289366)\n",
      "avg score time:0.010378789901733399 (+/-0.0004967370712338455)\n",
      "avg test score:0.9613414066138798 (+/-0.013112602658190713)\n"
     ]
    }
   ],
   "source": [
    "cross_val = cross_validate(\n",
    "    estimator = bagging_model,\n",
    "    X = cancer.data, y = cancer.target,\n",
    "    cv = 5\n",
    ")\n",
    "print('avg fit time:{} (+/-{})'.format(cross_val['fit_time'].mean(), cross_val['fit_time'].std()))\n",
    "print('avg score time:{} (+/-{})'.format(cross_val['score_time'].mean(), cross_val['score_time'].std()))\n",
    "print('avg test score:{} (+/-{})'.format(cross_val['test_score'].mean(), cross_val['test_score'].std()))\n"
   ]
  },
  {
   "cell_type": "code",
   "execution_count": 72,
   "metadata": {},
   "outputs": [],
   "source": [
    "base_model= make_pipeline(\n",
    "    StandardScaler(),\n",
    "    SVC()\n",
    ")\n",
    "\n",
    "bagging_model = BaggingClassifier(base_model,n_estimators=10, max_samples=0.5, max_features= 0.5)"
   ]
  },
  {
   "cell_type": "code",
   "execution_count": 73,
   "metadata": {},
   "outputs": [
    {
     "name": "stdout",
     "output_type": "stream",
     "text": [
      "avg fit time:0.001201629638671875 (+/-0.0003968309478845958)\n",
      "avg score time:0.000399017333984375 (+/-0.0004886945264472149)\n",
      "avg test score:0.9666666666666666 (+/-0.02108185106778919)\n"
     ]
    }
   ],
   "source": [
    "cross_val = cross_validate(\n",
    "    estimator = base_model,\n",
    "    X = iris.data, y = iris.target,\n",
    "    cv = 5\n",
    ")\n",
    "print('avg fit time:{} (+/-{})'.format(cross_val['fit_time'].mean(), cross_val['fit_time'].std()))\n",
    "print('avg score time:{} (+/-{})'.format(cross_val['score_time'].mean(), cross_val['score_time'].std()))\n",
    "print('avg test score:{} (+/-{})'.format(cross_val['test_score'].mean(), cross_val['test_score'].std()))\n"
   ]
  },
  {
   "cell_type": "code",
   "execution_count": 74,
   "metadata": {},
   "outputs": [
    {
     "name": "stdout",
     "output_type": "stream",
     "text": [
      "avg fit time:0.020549535751342773 (+/-0.003369203921946657)\n",
      "avg score time:0.0029885292053222655 (+/-0.0006310364369473714)\n",
      "avg test score:0.9533333333333334 (+/-0.03399346342395189)\n"
     ]
    }
   ],
   "source": [
    "cross_val = cross_validate(\n",
    "    estimator = bagging_model,\n",
    "    X = iris.data, y = iris.target,\n",
    "    cv = 5\n",
    ")\n",
    "print('avg fit time:{} (+/-{})'.format(cross_val['fit_time'].mean(), cross_val['fit_time'].std()))\n",
    "print('avg score time:{} (+/-{})'.format(cross_val['score_time'].mean(), cross_val['score_time'].std()))\n",
    "print('avg test score:{} (+/-{})'.format(cross_val['test_score'].mean(), cross_val['test_score'].std()))\n"
   ]
  },
  {
   "cell_type": "code",
   "execution_count": 75,
   "metadata": {},
   "outputs": [],
   "source": [
    "base_model= make_pipeline(\n",
    "    StandardScaler(),\n",
    "    SVC()\n",
    ")\n",
    "\n",
    "bagging_model = BaggingClassifier(base_model,n_estimators=10, max_samples=0.5, max_features= 0.5)"
   ]
  },
  {
   "cell_type": "code",
   "execution_count": 76,
   "metadata": {},
   "outputs": [
    {
     "name": "stdout",
     "output_type": "stream",
     "text": [
      "avg fit time:0.019946861267089843 (+/-6.468133910298603e-07)\n",
      "avg score time:0.0035901546478271486 (+/-0.0004886555308230838)\n",
      "avg test score:0.943968253968254 (+/-0.024675265605019477)\n"
     ]
    }
   ],
   "source": [
    "cross_val = cross_validate(\n",
    "    estimator = bagging_model,\n",
    "    X = wine.data, y = wine.target,\n",
    "    cv = 5\n",
    ")\n",
    "print('avg fit time:{} (+/-{})'.format(cross_val['fit_time'].mean(), cross_val['fit_time'].std()))\n",
    "print('avg score time:{} (+/-{})'.format(cross_val['score_time'].mean(), cross_val['score_time'].std()))\n",
    "print('avg test score:{} (+/-{})'.format(cross_val['test_score'].mean(), cross_val['test_score'].std()))\n"
   ]
  },
  {
   "cell_type": "code",
   "execution_count": 77,
   "metadata": {},
   "outputs": [
    {
     "name": "stdout",
     "output_type": "stream",
     "text": [
      "avg fit time:0.018954896926879884 (+/-1.1143716013075516e-05)\n",
      "avg score time:0.002997684478759766 (+/-1.2658567218759924e-05)\n",
      "avg test score:0.9495238095238095 (+/-0.010969620662330795)\n"
     ]
    }
   ],
   "source": [
    "cross_val = cross_validate(\n",
    "    estimator = bagging_model,\n",
    "    X = wine.data, y = wine.target,\n",
    "    cv = 5\n",
    ")\n",
    "print('avg fit time:{} (+/-{})'.format(cross_val['fit_time'].mean(), cross_val['fit_time'].std()))\n",
    "print('avg score time:{} (+/-{})'.format(cross_val['score_time'].mean(), cross_val['score_time'].std()))\n",
    "print('avg test score:{} (+/-{})'.format(cross_val['test_score'].mean(), cross_val['test_score'].std()))\n"
   ]
  },
  {
   "cell_type": "code",
   "execution_count": 78,
   "metadata": {},
   "outputs": [],
   "source": [
    "base_model= make_pipeline(\n",
    "    StandardScaler(),\n",
    "    SVC()\n",
    ")\n",
    "\n",
    "bagging_model = BaggingClassifier(base_model,n_estimators=10, max_samples=0.5, max_features= 0.5)"
   ]
  },
  {
   "cell_type": "code",
   "execution_count": 79,
   "metadata": {},
   "outputs": [
    {
     "name": "stdout",
     "output_type": "stream",
     "text": [
      "avg fit time:0.01875028610229492 (+/-0.00039916153863064154)\n",
      "avg score time:0.003396272659301758 (+/-0.0004849314336512508)\n",
      "avg test score:0.9604761904761905 (+/-0.023097283496400105)\n"
     ]
    }
   ],
   "source": [
    "cross_val = cross_validate(\n",
    "    estimator = bagging_model,\n",
    "    X = wine.data, y = wine.target,\n",
    "    cv = 5\n",
    ")\n",
    "print('avg fit time:{} (+/-{})'.format(cross_val['fit_time'].mean(), cross_val['fit_time'].std()))\n",
    "print('avg score time:{} (+/-{})'.format(cross_val['score_time'].mean(), cross_val['score_time'].std()))\n",
    "print('avg test score:{} (+/-{})'.format(cross_val['test_score'].mean(), cross_val['test_score'].std()))\n"
   ]
  },
  {
   "cell_type": "code",
   "execution_count": 80,
   "metadata": {},
   "outputs": [
    {
     "name": "stdout",
     "output_type": "stream",
     "text": [
      "avg fit time:0.0015903472900390624 (+/-0.0004842333955352152)\n",
      "avg score time:0.0006039142608642578 (+/-0.0004932000744148144)\n",
      "avg test score:0.9833333333333334 (+/-0.022222222222222233)\n"
     ]
    }
   ],
   "source": [
    "cross_val = cross_validate(\n",
    "    estimator = base_model,\n",
    "    X = wine.data, y = wine.target,\n",
    "    cv = 5\n",
    ")\n",
    "print('avg fit time:{} (+/-{})'.format(cross_val['fit_time'].mean(), cross_val['fit_time'].std()))\n",
    "print('avg score time:{} (+/-{})'.format(cross_val['score_time'].mean(), cross_val['score_time'].std()))\n",
    "print('avg test score:{} (+/-{})'.format(cross_val['test_score'].mean(), cross_val['test_score'].std()))\n"
   ]
  },
  {
   "cell_type": "code",
   "execution_count": 81,
   "metadata": {},
   "outputs": [],
   "source": [
    "base_model= make_pipeline(\n",
    "    StandardScaler(),\n",
    "    DecisionTreeClassifier()\n",
    ")\n",
    "\n",
    "bagging_model = BaggingClassifier(base_model,n_estimators=10, max_samples=0.5, max_features= 0.5)"
   ]
  },
  {
   "cell_type": "code",
   "execution_count": 82,
   "metadata": {},
   "outputs": [
    {
     "name": "stdout",
     "output_type": "stream",
     "text": [
      "avg fit time:0.0011962890625 (+/-0.0003988566996135635)\n",
      "avg score time:0.00019927024841308593 (+/-0.00039854049682617185)\n",
      "avg test score:0.9533333333333334 (+/-0.03399346342395189)\n"
     ]
    }
   ],
   "source": [
    "cross_val = cross_validate(\n",
    "    estimator = base_model,\n",
    "    X = iris.data, y = iris.target,\n",
    "    cv = 5\n",
    ")\n",
    "print('avg fit time:{} (+/-{})'.format(cross_val['fit_time'].mean(), cross_val['fit_time'].std()))\n",
    "print('avg score time:{} (+/-{})'.format(cross_val['score_time'].mean(), cross_val['score_time'].std()))\n",
    "print('avg test score:{} (+/-{})'.format(cross_val['test_score'].mean(), cross_val['test_score'].std()))\n"
   ]
  },
  {
   "cell_type": "code",
   "execution_count": 83,
   "metadata": {},
   "outputs": [
    {
     "name": "stdout",
     "output_type": "stream",
     "text": [
      "avg fit time:0.016544437408447264 (+/-0.000793025218513493)\n",
      "avg score time:0.0012141704559326173 (+/-0.00040387444676499867)\n",
      "avg test score:0.9466666666666667 (+/-0.03399346342395189)\n"
     ]
    }
   ],
   "source": [
    "cross_val = cross_validate(\n",
    "    estimator = bagging_model,\n",
    "    X = iris.data, y = iris.target,\n",
    "    cv = 5\n",
    ")\n",
    "print('avg fit time:{} (+/-{})'.format(cross_val['fit_time'].mean(), cross_val['fit_time'].std()))\n",
    "print('avg score time:{} (+/-{})'.format(cross_val['score_time'].mean(), cross_val['score_time'].std()))\n",
    "print('avg test score:{} (+/-{})'.format(cross_val['test_score'].mean(), cross_val['test_score'].std()))\n"
   ]
  },
  {
   "cell_type": "code",
   "execution_count": 84,
   "metadata": {},
   "outputs": [],
   "source": [
    "base_model= make_pipeline(\n",
    "    StandardScaler(),\n",
    "    DecisionTreeClassifier()\n",
    ")\n",
    "\n",
    "bagging_model = BaggingClassifier(base_model,n_estimators=10, max_samples=0.5, max_features= 0.5)"
   ]
  },
  {
   "cell_type": "code",
   "execution_count": 85,
   "metadata": {},
   "outputs": [
    {
     "name": "stdout",
     "output_type": "stream",
     "text": [
      "avg fit time:0.004986333847045899 (+/-0.0006311282032245942)\n",
      "avg score time:0.00039920806884765627 (+/-0.0004889280349393074)\n",
      "avg test score:0.9261450085390466 (+/-0.02344380114440703)\n"
     ]
    }
   ],
   "source": [
    "cross_val = cross_validate(\n",
    "    estimator = base_model,\n",
    "    X = cancer.data, y = cancer.target,\n",
    "    cv = 5\n",
    ")\n",
    "print('avg fit time:{} (+/-{})'.format(cross_val['fit_time'].mean(), cross_val['fit_time'].std()))\n",
    "print('avg score time:{} (+/-{})'.format(cross_val['score_time'].mean(), cross_val['score_time'].std()))\n",
    "print('avg test score:{} (+/-{})'.format(cross_val['test_score'].mean(), cross_val['test_score'].std()))\n"
   ]
  },
  {
   "cell_type": "code",
   "execution_count": 86,
   "metadata": {},
   "outputs": [
    {
     "name": "stdout",
     "output_type": "stream",
     "text": [
      "avg fit time:0.023142147064208984 (+/-0.0004069610690503441)\n",
      "avg score time:0.0017961502075195313 (+/-0.00039787878236088826)\n",
      "avg test score:0.9508306163639186 (+/-0.015225053650753124)\n"
     ]
    }
   ],
   "source": [
    "cross_val = cross_validate(\n",
    "    estimator = bagging_model,\n",
    "    X = cancer.data, y = cancer.target,\n",
    "    cv = 5\n",
    ")\n",
    "print('avg fit time:{} (+/-{})'.format(cross_val['fit_time'].mean(), cross_val['fit_time'].std()))\n",
    "print('avg score time:{} (+/-{})'.format(cross_val['score_time'].mean(), cross_val['score_time'].std()))\n",
    "print('avg test score:{} (+/-{})'.format(cross_val['test_score'].mean(), cross_val['test_score'].std()))\n"
   ]
  },
  {
   "cell_type": "code",
   "execution_count": 89,
   "metadata": {},
   "outputs": [],
   "source": [
    "boston = load_boston()\n",
    "diabetes = load_diabetes()"
   ]
  },
  {
   "cell_type": "code",
   "execution_count": 99,
   "metadata": {},
   "outputs": [],
   "source": [
    "base_model= make_pipeline(\n",
    "    StandardScaler(),\n",
    "    KNeighborsRegressor()\n",
    ")\n",
    "\n",
    "bagging_model = BaggingRegressor(base_model,n_estimators=10, max_samples=0.5, max_features= 0.5)"
   ]
  },
  {
   "cell_type": "code",
   "execution_count": 100,
   "metadata": {},
   "outputs": [
    {
     "name": "stdout",
     "output_type": "stream",
     "text": [
      "avg fit time:0.001396036148071289 (+/-0.0004884417044859074)\n",
      "avg score time:0.001396512985229492 (+/-0.0004888311331523959)\n",
      "avg test score:0.47357748833823543 (+/-0.13243123464477455)\n"
     ]
    }
   ],
   "source": [
    "cross_val = cross_validate(\n",
    "    estimator = base_model,\n",
    "    X = boston.data, y = boston.target,\n",
    "    cv = 5\n",
    ")\n",
    "print('avg fit time:{} (+/-{})'.format(cross_val['fit_time'].mean(), cross_val['fit_time'].std()))\n",
    "print('avg score time:{} (+/-{})'.format(cross_val['score_time'].mean(), cross_val['score_time'].std()))\n",
    "print('avg test score:{} (+/-{})'.format(cross_val['test_score'].mean(), cross_val['test_score'].std()))\n"
   ]
  },
  {
   "cell_type": "code",
   "execution_count": 102,
   "metadata": {},
   "outputs": [
    {
     "name": "stdout",
     "output_type": "stream",
     "text": [
      "avg fit time:0.014378547668457031 (+/-0.0013475716827844625)\n",
      "avg score time:0.006967067718505859 (+/-1.8116047116707363e-05)\n",
      "avg test score:0.468292264111414 (+/-0.14681648948227674)\n"
     ]
    }
   ],
   "source": [
    "cross_val = cross_validate(\n",
    "    estimator = bagging_model,\n",
    "    X = boston.data, y = boston.target,\n",
    "    cv = 5\n",
    ")\n",
    "print('avg fit time:{} (+/-{})'.format(cross_val['fit_time'].mean(), cross_val['fit_time'].std()))\n",
    "print('avg score time:{} (+/-{})'.format(cross_val['score_time'].mean(), cross_val['score_time'].std()))\n",
    "print('avg test score:{} (+/-{})'.format(cross_val['test_score'].mean(), cross_val['test_score'].std()))\n"
   ]
  },
  {
   "cell_type": "code",
   "execution_count": 103,
   "metadata": {},
   "outputs": [],
   "source": [
    "base_model= make_pipeline(\n",
    "    StandardScaler(),\n",
    "    KNeighborsRegressor()\n",
    ")\n",
    "\n",
    "bagging_model = BaggingRegressor(base_model,n_estimators=10, max_samples=0.5, max_features= 0.5)"
   ]
  },
  {
   "cell_type": "code",
   "execution_count": 105,
   "metadata": {},
   "outputs": [
    {
     "name": "stdout",
     "output_type": "stream",
     "text": [
      "avg fit time:0.0011901378631591797 (+/-0.00040179198173748084)\n",
      "avg score time:0.0014026165008544922 (+/-0.0004955071632703129)\n",
      "avg test score:0.3689720650295623 (+/-0.044659049060165365)\n"
     ]
    }
   ],
   "source": [
    "cross_val = cross_validate(\n",
    "    estimator = base_model,\n",
    "    X = diabetes.data, y = diabetes.target,\n",
    "    cv = 5\n",
    ")\n",
    "print('avg fit time:{} (+/-{})'.format(cross_val['fit_time'].mean(), cross_val['fit_time'].std()))\n",
    "print('avg score time:{} (+/-{})'.format(cross_val['score_time'].mean(), cross_val['score_time'].std()))\n",
    "print('avg test score:{} (+/-{})'.format(cross_val['test_score'].mean(), cross_val['test_score'].std()))\n"
   ]
  },
  {
   "cell_type": "code",
   "execution_count": null,
   "metadata": {},
   "outputs": [],
   "source": []
  },
  {
   "cell_type": "code",
   "execution_count": null,
   "metadata": {},
   "outputs": [],
   "source": []
  }
 ],
 "metadata": {
  "interpreter": {
   "hash": "b3ba2566441a7c06988d0923437866b63cedc61552a5af99d1f4fb67d367b25f"
  },
  "kernelspec": {
   "display_name": "Python 3.9.7 64-bit ('base': conda)",
   "language": "python",
   "name": "python3"
  },
  "language_info": {
   "codemirror_mode": {
    "name": "ipython",
    "version": 3
   },
   "file_extension": ".py",
   "mimetype": "text/x-python",
   "name": "python",
   "nbconvert_exporter": "python",
   "pygments_lexer": "ipython3",
   "version": "3.9.7"
  },
  "orig_nbformat": 4
 },
 "nbformat": 4,
 "nbformat_minor": 2
}
