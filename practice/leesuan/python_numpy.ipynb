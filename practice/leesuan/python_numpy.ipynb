{
 "cells": [
  {
   "cell_type": "markdown",
   "metadata": {},
   "source": [
    "# Numpy\n",
    "Numerical Python의 약자\n",
    "고성능 과학 계산용 패키지로 강력한 N차원 배열 객체\n",
    "범용적 데이터 저리에 사용 가능한 다차원 컨테이너\n",
    "정교한 브로드캐스팅 가능\n",
    "파이썬의 자료형 list와 비슷하지만, 더 빠르고 메모리를 효율적으로 관리\n",
    "반복문 없이 데이터 배열에 대한 처리를 지원하여 빠르고 편리\n",
    "데이터 과학 도구에 대한 생태계의 핵심을 이루고 있음\n"
   ]
  }
 ],
 "metadata": {
  "language_info": {
   "name": "python"
  },
  "orig_nbformat": 4
 },
 "nbformat": 4,
 "nbformat_minor": 2
}
