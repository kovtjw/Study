{
 "cells": [
  {
   "cell_type": "markdown",
   "metadata": {},
   "source": [
    "# 리스트\n",
    "\n",
    "변경 가능한 '시퀀스' 자료형\n",
    "하나의 변수에 여러 값 할당 가능\n",
    "같은 자료형이 아니라 다른 자료형을 가지는 값들을 포함 가능\n",
    "일반적으로 비슷한 항목들의 모음을 순서대로 저장하는데 사용\n"
   ]
  },
  {
   "cell_type": "code",
   "execution_count": 6,
   "metadata": {},
   "outputs": [
    {
     "name": "stdout",
     "output_type": "stream",
     "text": [
      "[]\n",
      "[1, 2, 3]\n",
      "['one', 'two', 'three']\n",
      "[1, 'one', 2, 'two']\n",
      "[1, 2, 3, ['one', 'two']]\n"
     ]
    }
   ],
   "source": [
    "print([])\n",
    "print([1,2,3])\n",
    "print(['one','two','three'])\n",
    "print([1, 'one', 2, 'two']) # 문자와 숫자를 섞어서도 가능\n",
    "print([1,2,3,['one','two']])"
   ]
  },
  {
   "cell_type": "markdown",
   "metadata": {},
   "source": [
    "# 리스트 인덱싱\n",
    "\n",
    "리스트에 각 위치제 해당하는 값에 접근하기 위해서 주소 개념의 숫자를 사용\n"
   ]
  },
  {
   "cell_type": "code",
   "execution_count": 10,
   "metadata": {},
   "outputs": [
    {
     "name": "stdout",
     "output_type": "stream",
     "text": [
      "one\n",
      "two\n",
      "three\n",
      "three\n",
      "two\n",
      "one\n"
     ]
    }
   ],
   "source": [
    "list = ['one','two','three']\n",
    "print(list[0])\n",
    "print(list[1])\n",
    "print(list[2])\n",
    "print(list[-1])\n",
    "print(list[-2])\n",
    "print(list[-3])\n",
    "\n"
   ]
  },
  {
   "cell_type": "code",
   "execution_count": 13,
   "metadata": {},
   "outputs": [
    {
     "name": "stdout",
     "output_type": "stream",
     "text": [
      "[1, 2, 3, ['one', 'two']]\n",
      "['one', 'two']\n",
      "one\n"
     ]
    }
   ],
   "source": [
    "# 중첩 리스트 인덱싱 : 리스트 안에 리스트가 있을 경우 \n",
    "list = [1,2,3,['one','two']]\n",
    "print(list)\n",
    "print(list[3])\n",
    "print(list[3][0])"
   ]
  },
  {
   "cell_type": "code",
   "execution_count": 16,
   "metadata": {},
   "outputs": [
    {
     "name": "stdout",
     "output_type": "stream",
     "text": [
      "['one', 'two', 'three']\n",
      "['two']\n",
      "['two', 'three']\n"
     ]
    }
   ],
   "source": [
    "# 리스트 슬라이싱\n",
    "\n",
    "list = ['one','two','three']\n",
    "print(list[0:])\n",
    "print(list[1:2])\n",
    "print(list[1:])"
   ]
  },
  {
   "cell_type": "code",
   "execution_count": 21,
   "metadata": {},
   "outputs": [
    {
     "name": "stdout",
     "output_type": "stream",
     "text": [
      "[1, 2, 3, ['one', 'two']]\n",
      "one\n"
     ]
    }
   ],
   "source": [
    "# 중첩 리스트 슬라이싱\n",
    "\n",
    "list = [1,2,3,['one','two']]\n",
    "print(list)\n",
    "print(list[3][0])"
   ]
  },
  {
   "cell_type": "markdown",
   "metadata": {},
   "source": [
    "# 리스트 연산자/함수"
   ]
  },
  {
   "cell_type": "code",
   "execution_count": 27,
   "metadata": {},
   "outputs": [
    {
     "name": "stdout",
     "output_type": "stream",
     "text": [
      "['one', 'two', 'three']\n",
      "['four', 'five', 'six']\n",
      "['one', 'two', 'three', 'four', 'five', 'six']\n",
      "['one', 'two', 'three', 'one', 'two', 'three', 'one', 'two', 'three']\n",
      "3\n",
      "9\n"
     ]
    }
   ],
   "source": [
    "list_1 = ['one','two','three']\n",
    "list_2 = ['four','five','six']\n",
    "print(list_1)\n",
    "print(list_2)\n",
    "print(list_1 + list_2)\n",
    "print(list_1 * 3)\n",
    "print(len(list_1))\n",
    "print(len(list_1*3))"
   ]
  },
  {
   "cell_type": "code",
   "execution_count": 31,
   "metadata": {},
   "outputs": [
    {
     "name": "stdout",
     "output_type": "stream",
     "text": [
      "['one', 'two', 3]\n",
      "['one', 2, 3]\n",
      "[1, 2, 3]\n"
     ]
    }
   ],
   "source": [
    "# 리스트 수정\n",
    "\n",
    "list = ['one','two','three']\n",
    "list[2]=3\n",
    "print(list)\n",
    "list[1]=2\n",
    "print(list)\n",
    "list[0]=1\n",
    "print(list)"
   ]
  },
  {
   "cell_type": "code",
   "execution_count": 34,
   "metadata": {},
   "outputs": [
    {
     "name": "stdout",
     "output_type": "stream",
     "text": [
      "['one', 'two', 'three', 'four']\n",
      "['one', 'two', 'three', 'four', [1, 2, 3, 4]]\n"
     ]
    }
   ],
   "source": [
    "list = ['one','two','three']\n",
    "list.append('four')\n",
    "print(list)\n",
    "list.append([1,2,3,4])\n",
    "print(list)"
   ]
  },
  {
   "cell_type": "code",
   "execution_count": 40,
   "metadata": {},
   "outputs": [
    {
     "name": "stdout",
     "output_type": "stream",
     "text": [
      "[10, 40, 20, 30]\n",
      "[10, 20, 30, 40]\n",
      "['orange', 'apple', 'bananan', 'strawberry']\n",
      "['apple', 'bananan', 'orange', 'strawberry']\n"
     ]
    }
   ],
   "source": [
    "# 리스트 정렬\n",
    "list = [10,40,20,30]\n",
    "print(list)\n",
    "list.sort()\n",
    "print(list)\n",
    "\n",
    "list = ['orange', 'apple', 'bananan','strawberry']\n",
    "print(list)\n",
    "list.sort()\n",
    "print(list)"
   ]
  },
  {
   "cell_type": "code",
   "execution_count": 42,
   "metadata": {},
   "outputs": [
    {
     "name": "stdout",
     "output_type": "stream",
     "text": [
      "['orange', 'apple', 'bananan', 'strawberry']\n",
      "['strawberry', 'bananan', 'apple', 'orange']\n"
     ]
    }
   ],
   "source": [
    "# 리스트 반전\n",
    "list = ['orange', 'apple', 'bananan','strawberry']\n",
    "print(list)\n",
    "list.reverse()\n",
    "print(list)"
   ]
  },
  {
   "cell_type": "code",
   "execution_count": 44,
   "metadata": {},
   "outputs": [
    {
     "name": "stdout",
     "output_type": "stream",
     "text": [
      "[10, 40, 20, 30]\n",
      "0\n",
      "2\n",
      "1\n"
     ]
    }
   ],
   "source": [
    "# 인덱스\n",
    "\n",
    "list = [10,40,20,30]\n",
    "print(list)\n",
    "print(list.index(10))\n",
    "print(list.index(20))\n",
    "print(list.index(40))\n",
    "\n"
   ]
  },
  {
   "cell_type": "code",
   "execution_count": 45,
   "metadata": {},
   "outputs": [
    {
     "name": "stdout",
     "output_type": "stream",
     "text": [
      "[10, 40, 20, 30]\n",
      "[10, 40, 20, 30, 50]\n"
     ]
    }
   ],
   "source": [
    "# 리스트 요소 삽입\n",
    "list = [10,40,20,30]\n",
    "print(list)\n",
    "list.insert(4,50) # (원하는 인덱스, 원하는 값)\n",
    "print(list)"
   ]
  },
  {
   "cell_type": "code",
   "execution_count": null,
   "metadata": {},
   "outputs": [],
   "source": []
  }
 ],
 "metadata": {
  "interpreter": {
   "hash": "b3ba2566441a7c06988d0923437866b63cedc61552a5af99d1f4fb67d367b25f"
  },
  "kernelspec": {
   "display_name": "Python 3.9.7 64-bit ('base': conda)",
   "language": "python",
   "name": "python3"
  },
  "language_info": {
   "codemirror_mode": {
    "name": "ipython",
    "version": 3
   },
   "file_extension": ".py",
   "mimetype": "text/x-python",
   "name": "python",
   "nbconvert_exporter": "python",
   "pygments_lexer": "ipython3",
   "version": "3.9.7"
  },
  "orig_nbformat": 4
 },
 "nbformat": 4,
 "nbformat_minor": 2
}
