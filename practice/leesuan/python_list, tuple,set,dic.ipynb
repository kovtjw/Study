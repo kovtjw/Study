{
 "cells": [
  {
   "cell_type": "markdown",
   "metadata": {},
   "source": [
    "# 리스트\n",
    "\n",
    "변경 가능한 '시퀀스' 자료형\n",
    "하나의 변수에 여러 값 할당 가능\n",
    "같은 자료형이 아니라 다른 자료형을 가지는 값들을 포함 가능\n",
    "일반적으로 비슷한 항목들의 모음을 순서대로 저장하는데 사용\n"
   ]
  },
  {
   "cell_type": "code",
   "execution_count": 6,
   "metadata": {},
   "outputs": [
    {
     "name": "stdout",
     "output_type": "stream",
     "text": [
      "[]\n",
      "[1, 2, 3]\n",
      "['one', 'two', 'three']\n",
      "[1, 'one', 2, 'two']\n",
      "[1, 2, 3, ['one', 'two']]\n"
     ]
    }
   ],
   "source": [
    "print([])\n",
    "print([1,2,3])\n",
    "print(['one','two','three'])\n",
    "print([1, 'one', 2, 'two']) # 문자와 숫자를 섞어서도 가능\n",
    "print([1,2,3,['one','two']])"
   ]
  },
  {
   "cell_type": "markdown",
   "metadata": {},
   "source": [
    "# 리스트 인덱싱\n",
    "\n",
    "리스트에 각 위치제 해당하는 값에 접근하기 위해서 주소 개념의 숫자를 사용\n"
   ]
  },
  {
   "cell_type": "code",
   "execution_count": 10,
   "metadata": {},
   "outputs": [
    {
     "name": "stdout",
     "output_type": "stream",
     "text": [
      "one\n",
      "two\n",
      "three\n",
      "three\n",
      "two\n",
      "one\n"
     ]
    }
   ],
   "source": [
    "list = ['one','two','three']\n",
    "print(list[0])\n",
    "print(list[1])\n",
    "print(list[2])\n",
    "print(list[-1])\n",
    "print(list[-2])\n",
    "print(list[-3])\n",
    "\n"
   ]
  },
  {
   "cell_type": "code",
   "execution_count": 13,
   "metadata": {},
   "outputs": [
    {
     "name": "stdout",
     "output_type": "stream",
     "text": [
      "[1, 2, 3, ['one', 'two']]\n",
      "['one', 'two']\n",
      "one\n"
     ]
    }
   ],
   "source": [
    "# 중첩 리스트 인덱싱 : 리스트 안에 리스트가 있을 경우 \n",
    "list = [1,2,3,['one','two']]\n",
    "print(list)\n",
    "print(list[3])\n",
    "print(list[3][0])"
   ]
  },
  {
   "cell_type": "code",
   "execution_count": 16,
   "metadata": {},
   "outputs": [
    {
     "name": "stdout",
     "output_type": "stream",
     "text": [
      "['one', 'two', 'three']\n",
      "['two']\n",
      "['two', 'three']\n"
     ]
    }
   ],
   "source": [
    "# 리스트 슬라이싱\n",
    "\n",
    "list = ['one','two','three']\n",
    "print(list[0:])\n",
    "print(list[1:2])\n",
    "print(list[1:])"
   ]
  },
  {
   "cell_type": "code",
   "execution_count": 21,
   "metadata": {},
   "outputs": [
    {
     "name": "stdout",
     "output_type": "stream",
     "text": [
      "[1, 2, 3, ['one', 'two']]\n",
      "one\n"
     ]
    }
   ],
   "source": [
    "# 중첩 리스트 슬라이싱\n",
    "\n",
    "list = [1,2,3,['one','two']]\n",
    "print(list)\n",
    "print(list[3][0])"
   ]
  },
  {
   "cell_type": "markdown",
   "metadata": {},
   "source": [
    "# 리스트 연산자/함수"
   ]
  },
  {
   "cell_type": "code",
   "execution_count": 27,
   "metadata": {},
   "outputs": [
    {
     "name": "stdout",
     "output_type": "stream",
     "text": [
      "['one', 'two', 'three']\n",
      "['four', 'five', 'six']\n",
      "['one', 'two', 'three', 'four', 'five', 'six']\n",
      "['one', 'two', 'three', 'one', 'two', 'three', 'one', 'two', 'three']\n",
      "3\n",
      "9\n"
     ]
    }
   ],
   "source": [
    "list_1 = ['one','two','three']\n",
    "list_2 = ['four','five','six']\n",
    "print(list_1)\n",
    "print(list_2)\n",
    "print(list_1 + list_2)\n",
    "print(list_1 * 3)\n",
    "print(len(list_1))\n",
    "print(len(list_1*3))"
   ]
  },
  {
   "cell_type": "code",
   "execution_count": 31,
   "metadata": {},
   "outputs": [
    {
     "name": "stdout",
     "output_type": "stream",
     "text": [
      "['one', 'two', 3]\n",
      "['one', 2, 3]\n",
      "[1, 2, 3]\n"
     ]
    }
   ],
   "source": [
    "# 리스트 수정\n",
    "\n",
    "list = ['one','two','three']\n",
    "list[2]=3\n",
    "print(list)\n",
    "list[1]=2\n",
    "print(list)\n",
    "list[0]=1\n",
    "print(list)"
   ]
  },
  {
   "cell_type": "code",
   "execution_count": 34,
   "metadata": {},
   "outputs": [
    {
     "name": "stdout",
     "output_type": "stream",
     "text": [
      "['one', 'two', 'three', 'four']\n",
      "['one', 'two', 'three', 'four', [1, 2, 3, 4]]\n"
     ]
    }
   ],
   "source": [
    "list = ['one','two','three']\n",
    "list.append('four')\n",
    "print(list)\n",
    "list.append([1,2,3,4])\n",
    "print(list)"
   ]
  },
  {
   "cell_type": "code",
   "execution_count": 40,
   "metadata": {},
   "outputs": [
    {
     "name": "stdout",
     "output_type": "stream",
     "text": [
      "[10, 40, 20, 30]\n",
      "[10, 20, 30, 40]\n",
      "['orange', 'apple', 'bananan', 'strawberry']\n",
      "['apple', 'bananan', 'orange', 'strawberry']\n"
     ]
    }
   ],
   "source": [
    "# 리스트 정렬\n",
    "list = [10,40,20,30]\n",
    "print(list)\n",
    "list.sort()\n",
    "print(list)\n",
    "\n",
    "list = ['orange', 'apple', 'bananan','strawberry']\n",
    "print(list)\n",
    "list.sort()\n",
    "print(list)"
   ]
  },
  {
   "cell_type": "code",
   "execution_count": 42,
   "metadata": {},
   "outputs": [
    {
     "name": "stdout",
     "output_type": "stream",
     "text": [
      "['orange', 'apple', 'bananan', 'strawberry']\n",
      "['strawberry', 'bananan', 'apple', 'orange']\n"
     ]
    }
   ],
   "source": [
    "# 리스트 반전\n",
    "list = ['orange', 'apple', 'bananan','strawberry']\n",
    "print(list)\n",
    "list.reverse()\n",
    "print(list)"
   ]
  },
  {
   "cell_type": "code",
   "execution_count": 44,
   "metadata": {},
   "outputs": [
    {
     "name": "stdout",
     "output_type": "stream",
     "text": [
      "[10, 40, 20, 30]\n",
      "0\n",
      "2\n",
      "1\n"
     ]
    }
   ],
   "source": [
    "# 인덱스\n",
    "\n",
    "list = [10,40,20,30]\n",
    "print(list)\n",
    "print(list.index(10))\n",
    "print(list.index(20))\n",
    "print(list.index(40))\n",
    "\n"
   ]
  },
  {
   "cell_type": "code",
   "execution_count": 46,
   "metadata": {},
   "outputs": [
    {
     "name": "stdout",
     "output_type": "stream",
     "text": [
      "[10, 40, 20, 30]\n",
      "[10, 40, 20, 30, 50]\n",
      "[60, 10, 40, 20, 30, 50]\n"
     ]
    }
   ],
   "source": [
    "# 리스트 요소 삽입\n",
    "list = [10,40,20,30]\n",
    "print(list)\n",
    "list.insert(4,50) # (원하는 위치, 원하는 값)\n",
    "print(list)\n",
    "list.insert(0,60) \n",
    "print(list)"
   ]
  },
  {
   "cell_type": "code",
   "execution_count": 48,
   "metadata": {},
   "outputs": [
    {
     "name": "stdout",
     "output_type": "stream",
     "text": [
      "[10, 40, 20, 30]\n",
      "[10, 20, 30]\n",
      "[10, 20]\n"
     ]
    }
   ],
   "source": [
    "# 리스트 요소 제거\n",
    "list = [10,40,20,30]\n",
    "print(list)\n",
    "list.remove(40)\n",
    "print(list)\n",
    "list.remove(30)\n",
    "print(list)"
   ]
  },
  {
   "cell_type": "code",
   "execution_count": 49,
   "metadata": {},
   "outputs": [
    {
     "name": "stdout",
     "output_type": "stream",
     "text": [
      "[10, 40, 20, 30]\n",
      "[40, 20, 30]\n"
     ]
    }
   ],
   "source": [
    "# 리스트 요소 제거 연산 / 인덱스 위치 값으로 제거\n",
    "\n",
    "list = [10,40,20,30]\n",
    "print(list)\n",
    "del list[0]\n",
    "print(list)"
   ]
  },
  {
   "cell_type": "code",
   "execution_count": 51,
   "metadata": {},
   "outputs": [
    {
     "name": "stdout",
     "output_type": "stream",
     "text": [
      "[10, 40, 20, 30]\n",
      "[10, 40, 20]\n",
      "[40, 20]\n"
     ]
    }
   ],
   "source": [
    "# 리스트 요소 방출\n",
    "\n",
    "list = [10,40,20,30]\n",
    "print(list)\n",
    "list.pop()\n",
    "print(list)\n",
    "list.pop(0)\n",
    "print(list)"
   ]
  },
  {
   "cell_type": "code",
   "execution_count": 53,
   "metadata": {},
   "outputs": [
    {
     "name": "stdout",
     "output_type": "stream",
     "text": [
      "[10, 20, 20, 30, 30, 30]\n",
      "3\n"
     ]
    }
   ],
   "source": [
    "# 리스트 요소의 갯수 계산\n",
    "list = [10,20,20,30,30,30]\n",
    "print(list)\n",
    "print(list.count(30))"
   ]
  },
  {
   "cell_type": "code",
   "execution_count": 54,
   "metadata": {},
   "outputs": [
    {
     "name": "stdout",
     "output_type": "stream",
     "text": [
      "[10, 40, 20, 30]\n",
      "[10, 40, 20, 30, 50, 60]\n"
     ]
    }
   ],
   "source": [
    "# 리스트 확장\n",
    "list = [10,40,20,30]\n",
    "print(list)\n",
    "list.extend([50,60])\n",
    "print(list)"
   ]
  },
  {
   "cell_type": "markdown",
   "metadata": {},
   "source": [
    "# 튜플 \n",
    "\n",
    "리스트와 유사하지만 변경 불가능한 시퀀스 자료형\n",
    "하나의 변수에 여러 값 할당 가능\n",
    "'('와')'를 사용하여 표현\n",
    "리스트와의 가장 큰 차이점은 변경이 불가능하다는 것이다."
   ]
  },
  {
   "cell_type": "code",
   "execution_count": 59,
   "metadata": {},
   "outputs": [
    {
     "name": "stdout",
     "output_type": "stream",
     "text": [
      "()\n",
      "(1, 2, 3)\n",
      "('one', 'two', 'three')\n",
      "(1, 'one', 2, 'two', 3, 'three')\n",
      "(1, 2, 3, ('one', 'two', 'three'))\n"
     ]
    }
   ],
   "source": [
    "print(())\n",
    "print((1,2,3))\n",
    "print(('one','two','three'))\n",
    "print((1,'one',2,'two',3,'three'))\n",
    "print((1,2,3,('one','two','three')))\n"
   ]
  },
  {
   "cell_type": "code",
   "execution_count": 62,
   "metadata": {},
   "outputs": [
    {
     "name": "stdout",
     "output_type": "stream",
     "text": [
      "('one', 'two', 'three')\n",
      "one\n",
      "three\n"
     ]
    }
   ],
   "source": [
    "tuple = ('one','two','three')\n",
    "print(tuple)\n",
    "print(tuple[0])\n",
    "print(tuple[-1])\n",
    "\n"
   ]
  },
  {
   "cell_type": "code",
   "execution_count": 65,
   "metadata": {},
   "outputs": [
    {
     "name": "stdout",
     "output_type": "stream",
     "text": [
      "(1, 2, 3, ('one', 'two', 'three'))\n",
      "('one', 'two', 'three')\n",
      "two\n"
     ]
    }
   ],
   "source": [
    "# 중첩 튜플 인덱싱\n",
    "\n",
    "tuple = (1,2,3,('one','two','three'))\n",
    "print(tuple)\n",
    "print(tuple[3])\n",
    "print(tuple[3][1])\n",
    "\n"
   ]
  },
  {
   "cell_type": "code",
   "execution_count": 69,
   "metadata": {},
   "outputs": [
    {
     "name": "stdout",
     "output_type": "stream",
     "text": [
      "('one', 'two', 'three')\n",
      "('one', 'two', 'three')\n",
      "('two',)\n",
      "('two', 'three')\n"
     ]
    }
   ],
   "source": [
    "tuple = ('one','two','three')\n",
    "print(tuple)\n",
    "print(tuple[0:])\n",
    "print(tuple[1:2])\n",
    "print(tuple[1:])"
   ]
  },
  {
   "cell_type": "code",
   "execution_count": 72,
   "metadata": {},
   "outputs": [
    {
     "name": "stdout",
     "output_type": "stream",
     "text": [
      "(1, 2, 3, ('one', 'two', 'three'))\n",
      "('one', 'two', 'three')\n",
      "('three',)\n",
      "('one', 'two')\n"
     ]
    }
   ],
   "source": [
    "# 중첩 튜플 슬라이싱\n",
    "\n",
    "tuple = (1,2,3,('one','two','three'))\n",
    "print(tuple)\n",
    "print(tuple[3])\n",
    "print(tuple[3][2:])\n",
    "print(tuple[3][:2])"
   ]
  },
  {
   "cell_type": "code",
   "execution_count": 76,
   "metadata": {},
   "outputs": [
    {
     "name": "stdout",
     "output_type": "stream",
     "text": [
      "('one', 'two', 'three', 'four', 'five', 'six')\n",
      "('one', 'two', 'three', 'one', 'two', 'three', 'one', 'two', 'three')\n",
      "6\n"
     ]
    }
   ],
   "source": [
    "# 튜플 연산자/함수\n",
    "\n",
    "tuple_1 = ('one','two','three')\n",
    "tuple_2 = ('four','five','six')\n",
    "print(tuple_1 + tuple_2)\n",
    "print(tuple_1 * 3)\n",
    "print(len(tuple_1 + tuple_2))"
   ]
  },
  {
   "cell_type": "markdown",
   "metadata": {},
   "source": [
    "# 세트\n",
    "\n",
    "데이터 중복을 허용하지 않는 구조\n",
    "순서가 없는 데이터 집합을 위한 구조\n",
    "인덱싱으로 값을 접근할 수 없음"
   ]
  },
  {
   "cell_type": "code",
   "execution_count": 79,
   "metadata": {},
   "outputs": [
    {
     "name": "stdout",
     "output_type": "stream",
     "text": [
      "{}\n",
      "{'two', 'one', 'three'}\n",
      "{40, 10, 20, 30}\n"
     ]
    }
   ],
   "source": [
    "print({})\n",
    "print({'one','two','three'}) # 순서가 의미 없다.\n",
    "print({10,20,30,40})\n"
   ]
  },
  {
   "cell_type": "code",
   "execution_count": 84,
   "metadata": {},
   "outputs": [
    {
     "name": "stdout",
     "output_type": "stream",
     "text": [
      "{10, 20, 30}\n",
      "{40, 50, 30}\n",
      "{30}\n",
      "{50, 20, 40, 10, 30}\n",
      "{10, 20}\n",
      "{40, 10, 50, 20}\n"
     ]
    }
   ],
   "source": [
    "# 중복이 허용되지 않음\n",
    "\n",
    "set_1 = {10,20,20,30}\n",
    "set_2 = {30,30,40,50}\n",
    "print(set_1)\n",
    "print(set_2)\n",
    "print(set_1 & set_2)  # & 교집합을 의미\n",
    "print(set_1 | set_2) # | 합집합을 의미\n",
    "print(set_1 - set_2) # - 차집합을 의미\n",
    "print(set_1 ^ set_2) # ^ 여집합을 의미 = 전체 합집합에서 교집합을 뺀 것\n"
   ]
  },
  {
   "cell_type": "code",
   "execution_count": 88,
   "metadata": {},
   "outputs": [
    {
     "name": "stdout",
     "output_type": "stream",
     "text": [
      "{30}\n",
      "{50, 20, 40, 10, 30}\n",
      "{10, 20}\n",
      "{40, 10, 50, 20}\n"
     ]
    }
   ],
   "source": [
    "# 세트 메소드\n",
    "\n",
    "set_1 = {10,20,20,30}\n",
    "set_2 = {30,30,40,50}\n",
    "print(set_1.intersection(set_2)) # 교집합\n",
    "print(set_1.union(set_2)) # 합집합\n",
    "print(set_1.difference(set_2)) # 차집합\n",
    "print(set_1.symmetric_difference(set_2)) # 여집합"
   ]
  },
  {
   "cell_type": "code",
   "execution_count": 96,
   "metadata": {},
   "outputs": [
    {
     "name": "stdout",
     "output_type": "stream",
     "text": [
      "{40, 10, 20, 30}\n",
      "{40, 10, 50, 20, 30}\n",
      "{70, 40, 10, 50, 20, 60, 30}\n",
      "{40, 10, 50, 20, 30}\n",
      "{40, 10, 50, 20}\n",
      "set()\n"
     ]
    }
   ],
   "source": [
    "set = {10,20,30,40}\n",
    "print(set)\n",
    "\n",
    "set.add(50)\n",
    "print(set)  # 어느 위치이든 들어간다.\n",
    "\n",
    "set.update([60,70]) # 여러개를 추가할 때 update\n",
    "print(set)\n",
    "\n",
    "set.remove(70)\n",
    "set.remove(60)\n",
    "print(set)\n",
    "\n",
    "set.discard(30)  # 삭제\n",
    "print(set)\n",
    "\n",
    "set.clear()\n",
    "print(set)"
   ]
  },
  {
   "cell_type": "markdown",
   "metadata": {},
   "source": [
    "# 딕셔너리\n",
    "\n",
    "키(key)와 값(value)의 쌍으로 구성된 데이터\n",
    "순서가 없는 데이터\n",
    "키를 통해 값을 얻음\n",
    "동일한 키가 있을 경우 덮어씀\n"
   ]
  },
  {
   "cell_type": "code",
   "execution_count": 99,
   "metadata": {},
   "outputs": [
    {
     "name": "stdout",
     "output_type": "stream",
     "text": [
      "{1: 'one', 2: 'two', 3: 'three'}\n",
      "{1: 'one', 2: 'two', 3: 'three'}\n"
     ]
    }
   ],
   "source": [
    "dic = {1 : 'one', 2:'two', 3:'three'}\n",
    "print(dic)\n",
    "\n",
    "dic = {1 : 'one', 2:'two', 3:'three',1 : 'one', 2:'two', 3:'three'}\n",
    "print(dic)"
   ]
  },
  {
   "cell_type": "code",
   "execution_count": 105,
   "metadata": {},
   "outputs": [
    {
     "name": "stdout",
     "output_type": "stream",
     "text": [
      "{1: 'one', 2: 'two', 3: 'three'}\n",
      "two\n",
      "{1: 'one', 2: 'two', 3: 'three', 4: 'four'}\n",
      "{1: 'one', 2: 'two', 3: 'three', 4: 'four', 5: 'five'}\n",
      "{1: 'one', 2: 'two', 3: 'three', 5: 'five'}\n"
     ]
    }
   ],
   "source": [
    "# 딕셔너리 요소 추가/삭제\n",
    "\n",
    "dic = {1 : 'one', 2:'two', 3:'three'}\n",
    "print(dic)\n",
    "print (dic[2])    # []안의 값으 인덱스가 아닌 키값\n",
    "dic[4] = 'four'\n",
    "print(dic)\n",
    "dic[5] = 'five'\n",
    "print(dic)\n",
    "\n",
    "del dic[4]\n",
    "print(dic)"
   ]
  },
  {
   "cell_type": "code",
   "execution_count": 114,
   "metadata": {},
   "outputs": [
    {
     "name": "stdout",
     "output_type": "stream",
     "text": [
      "{1: 'one', 2: 'two', 3: 'three'}\n",
      "dict_keys([1, 2, 3])\n",
      "dict_values(['one', 'two', 'three'])\n",
      "dict_items([(1, 'one'), (2, 'two'), (3, 'three')])\n",
      "two\n",
      "three\n",
      "{1: 'one', 2: 'two'}\n",
      "{}\n"
     ]
    }
   ],
   "source": [
    "# 딕셔너리 메소드\n",
    "\n",
    "dic = {1 : 'one', 2:'two', 3:'three'}\n",
    "print(dic)\n",
    "print(dic.keys())\n",
    "print(dic.values())\n",
    "print(dic.items())\n",
    "print(dic.get(2))\n",
    "print(dic.pop(3))  # 값을 빼내는 것\n",
    "print(dic)\n",
    "dic.clear()\n",
    "print(dic)\n",
    "\n"
   ]
  },
  {
   "cell_type": "code",
   "execution_count": null,
   "metadata": {},
   "outputs": [],
   "source": []
  }
 ],
 "metadata": {
  "interpreter": {
   "hash": "b3ba2566441a7c06988d0923437866b63cedc61552a5af99d1f4fb67d367b25f"
  },
  "kernelspec": {
   "display_name": "Python 3.9.7 64-bit ('base': conda)",
   "language": "python",
   "name": "python3"
  },
  "language_info": {
   "codemirror_mode": {
    "name": "ipython",
    "version": 3
   },
   "file_extension": ".py",
   "mimetype": "text/x-python",
   "name": "python",
   "nbconvert_exporter": "python",
   "pygments_lexer": "ipython3",
   "version": "3.9.7"
  },
  "orig_nbformat": 4
 },
 "nbformat": 4,
 "nbformat_minor": 2
}
