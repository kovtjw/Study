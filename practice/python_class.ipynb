{
 "cells": [
  {
   "cell_type": "markdown",
   "metadata": {},
   "source": [
    "# 객체\n",
    "객체란 존재하는 모든 것들을 의미\n",
    "현실 세계는 객체로 이루어져 있고, 모든 사건들은 사물간의 상호작용을 통해 발생 \n",
    "객체란 객체의 속성을 이루는 데이터들 뿐만 아니라 그 데이터의 조작방법에 대한 내용도 포함\n",
    "객체는 속성과 기능을 가지고 있는 것이 '핵심'\n",
    "\n",
    "# 객체 지향 프로그래밍\n",
    "객체 개념을 다루는 것이 객체 지향\n",
    "객체 지향 프로그래밍은 컴퓨터 프로그래밍 기법 중 하나\n",
    "프로그램을 단순히 데이터와 처리 방법으로 나누는 것이 아니라 프로그램을 수많은'객체'라는 단위로 구분하고, 이 객체들의 상호작용하는 방식\n",
    "각각의 객체는 메시지를 주고 받고, 데이터를 처리\n",
    "\n",
    "여러개의 객체가 속성과 기능들을 가지고 있고, 객체들끼리 메시지를 주고 받으면서, 상호작용하는 것\n"
   ]
  },
  {
   "cell_type": "markdown",
   "metadata": {},
   "source": [
    "# 클래스 (class)\n",
    "\n",
    "객체를 정의하는 틀, 설계도 \n",
    "객체의 구성 요소를 담는 개념\n",
    "여러 개의 속성(attribute)과 메소드(Method)를 포함하는 개념\n",
    "실제 생성된 객체는 인스턴스(Instance)\n",
    "인스턴스는 메모리에 할당된 객체를 의미\n",
    "클래스 문법 \n",
    "\n",
    "class Name(object):\n",
    "class : 클래스 정의\n",
    "Name : 클래스 명\n",
    "object : 상속받는 객체명\n"
   ]
  },
  {
   "cell_type": "markdown",
   "metadata": {},
   "source": [
    "# Book 클래스\n"
   ]
  },
  {
   "cell_type": "code",
   "execution_count": 2,
   "metadata": {},
   "outputs": [],
   "source": [
    "class Book(object):\n",
    "    author = ''\n",
    "    title = ''\n",
    "    publisher = ''\n",
    "    date = ''"
   ]
  },
  {
   "cell_type": "code",
   "execution_count": 4,
   "metadata": {},
   "outputs": [
    {
     "name": "stdout",
     "output_type": "stream",
     "text": [
      "jung won class\n"
     ]
    }
   ],
   "source": [
    "book = Book()\n",
    "book.author = 'jung won'\n",
    "book.title = 'class'\n",
    "print(book.author, book.title)"
   ]
  },
  {
   "cell_type": "markdown",
   "metadata": {},
   "source": [
    "# Book 클래스 메소드 정의\n",
    "self : 클래스를 통해서 만들어진 인스턴스가 있다면, 그 인스턴스 자체를 의미한다.\n",
    "       자기 자신의 인스턴스를 의미한다.\n"
   ]
  },
  {
   "cell_type": "code",
   "execution_count": 6,
   "metadata": {},
   "outputs": [],
   "source": [
    "class Book(object):\n",
    "    author = ''\n",
    "    title = ''\n",
    "    publisher = ''\n",
    "    date = ''\n",
    "    \n",
    "    def print_info(self):\n",
    "        print('Author:', self.author)\n",
    "        print('title :', self.title)\n"
   ]
  },
  {
   "cell_type": "code",
   "execution_count": 7,
   "metadata": {},
   "outputs": [
    {
     "name": "stdout",
     "output_type": "stream",
     "text": [
      "Author: jung wong\n",
      "title : python\n"
     ]
    }
   ],
   "source": [
    "book = Book()\n",
    "book.author = 'jung wong'\n",
    "book.title = 'python'\n",
    "book.print_info()"
   ]
  },
  {
   "cell_type": "markdown",
   "metadata": {},
   "source": [
    "# 인스턴스 속성 \n",
    "객체로부터 생성된 후에 인스턴스에서 활용하는 속성\n"
   ]
  },
  {
   "cell_type": "code",
   "execution_count": 8,
   "metadata": {},
   "outputs": [],
   "source": [
    "class Book(object):\n",
    "    author = ''\n",
    "    title = ''\n",
    "    publisher = ''\n",
    "    date = ''\n",
    "    \n",
    "    def print_info(self):\n",
    "        print('Author:', self.author)\n",
    "        print('title :', self.title)\n",
    "        print('publisher:',self.publisher)\n",
    "        print('Date:', self.date)\n"
   ]
  },
  {
   "cell_type": "code",
   "execution_count": 9,
   "metadata": {},
   "outputs": [
    {
     "name": "stdout",
     "output_type": "stream",
     "text": [
      "Author: jungwon\n",
      "title : python\n",
      "publisher: colab\n",
      "Date: 2020\n"
     ]
    }
   ],
   "source": [
    "b1 = Book()\n",
    "b1.author = 'jungwon'\n",
    "b1.title = 'python'\n",
    "b1.publisher = 'colab'\n",
    "b1.date = '2020'\n",
    "b1.print_info()"
   ]
  },
  {
   "cell_type": "markdown",
   "metadata": {},
   "source": [
    "# 클래스 속성 \n",
    "클래스 자체 내에서 사용되는 속성"
   ]
  },
  {
   "cell_type": "code",
   "execution_count": 10,
   "metadata": {},
   "outputs": [],
   "source": [
    "class Book(object):\n",
    "    author = ''\n",
    "    title = ''\n",
    "    publisher = ''\n",
    "    date = ''\n",
    "    \n",
    "    def print_info(self):\n",
    "        print('Author:', self.author)\n",
    "        print('title :', self.title)\n",
    "        print('publisher:',self.publisher)\n",
    "        print('Date:', self.date)"
   ]
  },
  {
   "cell_type": "code",
   "execution_count": 11,
   "metadata": {},
   "outputs": [
    {
     "name": "stdout",
     "output_type": "stream",
     "text": [
      "Author: jungwon\n",
      "title : python\n",
      "publisher: colab\n",
      "Date: 2020\n"
     ]
    }
   ],
   "source": [
    "b1 = Book()\n",
    "Book.author = 'jungwon'\n",
    "b1.title = 'python'\n",
    "b1.publisher = 'colab'\n",
    "b1.date = '2020'\n",
    "b1.print_info()"
   ]
  },
  {
   "cell_type": "markdown",
   "metadata": {},
   "source": [
    "# 인스턴스 속성과 클래스 속성은 다르다.\n",
    "두 가지를 목적에 맞도록 나누어 사용하는 것이 중요하다.\n"
   ]
  },
  {
   "cell_type": "code",
   "execution_count": 12,
   "metadata": {},
   "outputs": [],
   "source": [
    "class Book(object):\n",
    "    author = ''\n",
    "    title = ''\n",
    "    publisher = ''\n",
    "    date = ''\n",
    "    count = 0\n",
    "    \n",
    "    def print_info(self):\n",
    "        print('Author:', self.author)\n",
    "        print('title :', self.title)\n",
    "        print('publisher:',self.publisher)\n",
    "        print('Date:', self.date)"
   ]
  },
  {
   "cell_type": "code",
   "execution_count": 15,
   "metadata": {},
   "outputs": [
    {
     "name": "stdout",
     "output_type": "stream",
     "text": [
      "Author: jungwon\n",
      "title : python\n",
      "publisher: colab\n",
      "Date: 2020\n",
      "number of Books: 557\n"
     ]
    }
   ],
   "source": [
    "b1 = Book()\n",
    "Book.count += 300\n",
    "Book.author = 'jungwon'\n",
    "b1.title = 'python'\n",
    "b1.publisher = 'colab'\n",
    "b1.date = '2020'\n",
    "b1.print_info()\n",
    "print('number of Books:', str(Book.count))"
   ]
  },
  {
   "cell_type": "markdown",
   "metadata": {},
   "source": [
    "# 클래스 매직 메소드\n",
    "'_'를 2개 붙여서 매직 메소드 또는 속성에 사용 가능함\n",
    "\n",
    "__init__ : 객체 초기화를 위해 클래스 생성 시 호출되는 동작을 정의  // 정의했을 때 실행 시킨다.\n",
    "__call__ : 불렀을 때 실행 시킨다. \n",
    "__str__ : 클래스의 인스턴스에서 str()이 호출되는 동작을 정의\n",
    "__repr__ : 클래스의 인스턴스에서 repr()이 호출될 때의 동작을 정의\n",
    "__new__ : 객체의 인스턴스화에서 호출되는 첫 번째 메소드\n",
    "__del__ : 객체가 소멸될 때 호출되는 메소드\n",
    "__dir__ : 클래스의 인스턴스에서 dir()이 호출 될 때\n",
    "__getattr__: 존재하지 않는 속성에 엑세스하려고 시도 할 때 행위를 정의\n",
    "__setattr__ : 캡슐화를 위한 방법 정의\n",
    "__add__ : 두 인스턴스의 더하기가 일어날 때 실행되는 동작 정의\n",
    "__lt__,__le__,__gt__,__ge__,__eq__,__ne__: 인스턴스 간의 <,<=,>,>=,==,!=  비교 메소드"
   ]
  },
  {
   "cell_type": "code",
   "execution_count": 26,
   "metadata": {},
   "outputs": [],
   "source": [
    "# __init__() 메소드를 이용하여 클래스의 속성들을 초기화\n",
    "class Book(object):\n",
    "    count = 0 \n",
    "    \n",
    "    def __init__(self,author,title,publisher,date):\n",
    "        self.author = author\n",
    "        self.title = title\n",
    "        self.publisher = publisher\n",
    "        self.date = date\n",
    "        Book.count += 1\n",
    "        \n",
    "    def print_info(self):\n",
    "        print('Author:', self.author)\n",
    "        print('title :', self.title)\n",
    "        print('publisher:',self.publisher)\n",
    "        print('Date:', self.date)"
   ]
  },
  {
   "cell_type": "code",
   "execution_count": 32,
   "metadata": {},
   "outputs": [
    {
     "name": "stdout",
     "output_type": "stream",
     "text": [
      "Author: jungwon\n",
      "title : python\n",
      "publisher: colab\n",
      "Date: 2020\n",
      "Number of Books:::: 6\n"
     ]
    }
   ],
   "source": [
    "book = Book('jungwon','python','colab','2020')\n",
    "book.print_info()\n",
    "print('Number of Books::::', str(Book.count))"
   ]
  },
  {
   "cell_type": "code",
   "execution_count": 33,
   "metadata": {},
   "outputs": [],
   "source": [
    "# __str__() 메소드를 이용하여 인스턴스 출력\n",
    "class Book(object):\n",
    "    count = 0 \n",
    "    \n",
    "    def __init__(self,author,title,publisher,date):\n",
    "        self.author = author\n",
    "        self.title = title\n",
    "        self.publisher = publisher\n",
    "        self.date = date\n",
    "        Book.count += 1\n",
    "        \n",
    "    def __str__(self):\n",
    "        return ('Author:'+ self.author +\\\n",
    "                '\\ntitle :'+ self.title +\\\n",
    "                '\\npublisher:' + self.publisher +\\\n",
    "                '\\nDate:' + self.date)"
   ]
  },
  {
   "cell_type": "code",
   "execution_count": 34,
   "metadata": {},
   "outputs": [
    {
     "name": "stdout",
     "output_type": "stream",
     "text": [
      "Author:jungwon\n",
      "title :python\n",
      "publisher:colab\n",
      "Date:2020\n",
      "Number of Books:::: 1\n"
     ]
    }
   ],
   "source": [
    "book = Book('jungwon','python','colab','2020')\n",
    "print(book)\n",
    "print('Number of Books::::', str(Book.count))"
   ]
  },
  {
   "cell_type": "markdown",
   "metadata": {},
   "source": [
    "매직 메소드 예제\n",
    "Line 클래스"
   ]
  },
  {
   "cell_type": "code",
   "execution_count": 35,
   "metadata": {},
   "outputs": [],
   "source": [
    "class Line(object):\n",
    "    length = 0\n",
    "    \n",
    "    def __init__(self,length):\n",
    "        self.length = length\n",
    "        print(self.length,' 길이의 선 생성')\n",
    "        \n",
    "    def __del__(self):\n",
    "        print(self.length, '길이의 선 제거')\n",
    "        \n",
    "    def __repr__(self):\n",
    "        return str(self.length)\n",
    "    \n",
    "    def __add__(self,other):\n",
    "        return self.length + other.length\n",
    "    \n",
    "    def __lt__(self,other):\n",
    "        return self.length < other.length\n",
    "            \n",
    "    def __le__(self,other):\n",
    "        return self.length <= other.length\n",
    "    \n",
    "    def __gt__(self,other):\n",
    "        return self.length > other.length\n",
    "    \n",
    "    def __ge__(self,other):\n",
    "        return self.length >= other.length\n",
    "    \n",
    "    def __eq__(self,other):\n",
    "        return self.length == other.length\n",
    "    \n",
    "    def __ne__(self,other):\n",
    "        return self.length != other.length\n",
    "    \n",
    "    "
   ]
  },
  {
   "cell_type": "code",
   "execution_count": 43,
   "metadata": {},
   "outputs": [
    {
     "name": "stdout",
     "output_type": "stream",
     "text": [
      "30  길이의 선 생성\n",
      "30\n",
      "20  길이의 선 생성\n",
      "20\n",
      "선의 합: 50\n",
      "30 > 20\n",
      "30 길이의 선 제거\n",
      "20 길이의 선 제거\n"
     ]
    }
   ],
   "source": [
    "l1 = Line(30)\n",
    "print(l1)\n",
    "\n",
    "l2 = Line(20)\n",
    "print(l2)\n",
    "\n",
    "print('선의 합:', l1 + l2)\n",
    "\n",
    "if l1 < l2:\n",
    "    print(l1, '<', l2)\n",
    "elif l1 <= l2:\n",
    "    print(l1, '<=', l2)\n",
    "elif l1 > l2:\n",
    "    print(l1, '>', l2)\n",
    "elif l1 >= l2:\n",
    "    print(l1, '>=', l2)\n",
    "elif l1 == l2:\n",
    "    print(l1, '==', l2)\n",
    "elif l1 == l2:\n",
    "    print(l1, '==', l2)\n",
    "else:\n",
    "    pass\n",
    "\n",
    "del(l1)\n",
    "del(l2)\n"
   ]
  },
  {
   "cell_type": "markdown",
   "metadata": {},
   "source": [
    "# 가시성 예제\n",
    "\n",
    "__items 속성을 Box 객체 외부에서 보이지 않도록 캡슐화와 정보 은닉이 가능\n",
    "외부에서 __items 속성에 접근하면 속성 오류 발생"
   ]
  },
  {
   "cell_type": "code",
   "execution_count": 50,
   "metadata": {},
   "outputs": [],
   "source": [
    "class Box(object):\n",
    "    def __init__(self,name):\n",
    "        self.name = name\n",
    "        self.__items = ['바보']\n",
    "        \n",
    "    def add_item(self, item):\n",
    "        self. __items.append(item)\n",
    "        print('아이템 추가')\n",
    "        \n",
    "    def get_number_of_items(self):\n",
    "        return len(self.__items)"
   ]
  },
  {
   "cell_type": "code",
   "execution_count": 52,
   "metadata": {},
   "outputs": [
    {
     "name": "stdout",
     "output_type": "stream",
     "text": [
      "아이템 추가\n",
      "아이템 추가\n",
      "Box\n",
      "<bound method Box.get_number_of_items of <__main__.Box object at 0x0000020064FC8850>>\n"
     ]
    }
   ],
   "source": [
    "box = Box('Box')\n",
    "box.add_item('Item1')\n",
    "box.add_item('Item2')\n",
    "print(box.name)\n",
    "print(box.get_number_of_items)"
   ]
  },
  {
   "cell_type": "markdown",
   "metadata": {},
   "source": [
    "# 클래스 상속 \n",
    "부모에 있는 클래스를 자식이 받아서, 부모에 있던 것을 바로 사용하는\n",
    "기존 클래스에서 일부를 추가/변경한 새로운 클래스 생성으로 코드 재사용(reuse) 가능\n",
    "클래스 상속 문법 : class SubClass(SuperClass): "
   ]
  },
  {
   "cell_type": "code",
   "execution_count": 53,
   "metadata": {},
   "outputs": [],
   "source": [
    "class SuperClass(object): \n",
    "    pass\n",
    "\n",
    "class SubClass(SuperClass):\n",
    "    pass\n"
   ]
  },
  {
   "cell_type": "markdown",
   "metadata": {},
   "source": [
    "# 메소드 오버라이딩"
   ]
  },
  {
   "cell_type": "code",
   "execution_count": 61,
   "metadata": {},
   "outputs": [],
   "source": [
    "class SuperClass(object): \n",
    "    def method(self):\n",
    "        pass\n",
    "\n",
    "class SubClass1(SuperClass):\n",
    "    def method(self):\n",
    "        print('method obverrifing')\n",
    "    \n",
    "class SubClass2(SuperClass):\n",
    "    pass\n",
    "    "
   ]
  },
  {
   "cell_type": "code",
   "execution_count": 62,
   "metadata": {},
   "outputs": [
    {
     "name": "stdout",
     "output_type": "stream",
     "text": [
      "method obverrifing\n"
     ]
    }
   ],
   "source": [
    "sub1 = SubClass1()\n",
    "sub2 = SubClass2()\n",
    "\n",
    "sub1.method()\n",
    "sub2.method()\n",
    "\n"
   ]
  },
  {
   "cell_type": "code",
   "execution_count": 63,
   "metadata": {},
   "outputs": [],
   "source": [
    "class Vehicle(object):\n",
    "    speed = 0\n",
    "    def up_speed(self, value):\n",
    "        self.speed += value\n",
    "        \n",
    "    def down_speed(self, value):\n",
    "        self.speed -= value\n",
    "    \n",
    "    def print_speed(self):\n",
    "        print('speed:', str(self.speed))\n",
    "        \n",
    "class Car(Vehicle):\n",
    "    def up_speed(self, value):\n",
    "        self.speed += value\n",
    "        if self.speed > 240 : self.speed = 240\n",
    "        \n",
    "class Truck(Vehicle):\n",
    "    def up_speed(self, value):\n",
    "        self.speed += value\n",
    "        if self.speed > 180 : self.speed = 180\n",
    "\n"
   ]
  },
  {
   "cell_type": "code",
   "execution_count": 65,
   "metadata": {},
   "outputs": [
    {
     "name": "stdout",
     "output_type": "stream",
     "text": [
      "speed: 240\n",
      "speed: 180\n"
     ]
    }
   ],
   "source": [
    "car = Car()\n",
    "car.up_speed(300)\n",
    "car.print_speed()\n",
    "\n",
    "truck = Truck()\n",
    "truck.up_speed(180)\n",
    "truck.print_speed()"
   ]
  },
  {
   "cell_type": "markdown",
   "metadata": {},
   "source": [
    "# 클래스와 함수 차이\n",
    "\n",
    "1) def 대신 class로 정의하는 객체 생성 함수로 이를 호출하면 내부의 정의된 대로의 객체를 리턴한다. \n",
    "2) 클래스 함수 내부에 정의되는 내부 함수를 보면 인자가 하나라도 있는 것과 그렇지 않은 것이 있는데\n",
    "   인자가 하나라도 있는 내부 함수는 이 클래스 함수 호출로 생성되는 객체의 내부 함수로 사용가능하도록 자동\n",
    "   등록 된다.\n",
    "3) 일반 함수 정의는 그 내부의 코드를 실행하는 것이 목적이라고 할 수 있고, 클래스는 그 호출을 통해 생성되는\n",
    "   '객체 내부 네임스페이스에 일정한 속성과 메서드를 의도한대로 귀속시켜 정의하고 그 객체로 하여금 보완적\n",
    "   으로 클래스 함수 내부 네임스페이스도 접근할 수 있도록 하는 것이 목적이다. "
   ]
  }
 ],
 "metadata": {
  "interpreter": {
   "hash": "b3ba2566441a7c06988d0923437866b63cedc61552a5af99d1f4fb67d367b25f"
  },
  "kernelspec": {
   "display_name": "Python 3.9.7 64-bit ('base': conda)",
   "language": "python",
   "name": "python3"
  },
  "language_info": {
   "codemirror_mode": {
    "name": "ipython",
    "version": 3
   },
   "file_extension": ".py",
   "mimetype": "text/x-python",
   "name": "python",
   "nbconvert_exporter": "python",
   "pygments_lexer": "ipython3",
   "version": "3.9.7"
  },
  "orig_nbformat": 4
 },
 "nbformat": 4,
 "nbformat_minor": 2
}
