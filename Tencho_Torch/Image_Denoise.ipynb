{
 "cells": [
  {
   "cell_type": "code",
   "execution_count": 1,
   "id": "ccf956ac-2a8e-4333-9b56-f121b1eb3c63",
   "metadata": {},
   "outputs": [
    {
     "name": "stderr",
     "output_type": "stream",
     "text": [
      "/opt/conda/envs/bio/lib/python3.9/site-packages/tqdm/auto.py:22: TqdmWarning: IProgress not found. Please update jupyter and ipywidgets. See https://ipywidgets.readthedocs.io/en/stable/user_install.html\n",
      "  from .autonotebook import tqdm as notebook_tqdm\n"
     ]
    }
   ],
   "source": [
    "import matplotlib.pyplot as plt\n",
    "import numpy as np\n",
    "import torch\n",
    "\n",
    "from torchvision.datasets.mnist import MNIST\n",
    "from torchvision.transforms import ToTensor\n",
    "\n",
    "def gaussian_noise(x, scale = 0.8): # 이미지에 가우스 노이즈를 추가하는 함수\n",
    "    gaussian_data_x = x + np.random.normal(loc = 0,\n",
    "                                           scale = scale, size = x.shape)\n",
    "    \n",
    "    # 이미지의 픽셀값을 0과 1사이로 정규롸\n",
    "    gaussian_data_x = np.clip(gaussian_data_x, 0, 1)\n",
    "    gaussian_data_x = torch.tensor(gaussian_data_x) # 토치 텐서로 변환\n",
    "    gaussian_data_x = gaussian_data_x.type(torch.FloatTensor)\n",
    "    return gaussian_data_x"
   ]
  },
  {
   "cell_type": "code",
   "execution_count": 2,
   "id": "56a06da8-c518-454d-b6fa-20561db8e3ea",
   "metadata": {},
   "outputs": [
    {
     "name": "stdout",
     "output_type": "stream",
     "text": [
      "Downloading http://yann.lecun.com/exdb/mnist/train-images-idx3-ubyte.gz\n",
      "Downloading http://yann.lecun.com/exdb/mnist/train-images-idx3-ubyte.gz to ./MNIST/raw/train-images-idx3-ubyte.gz\n"
     ]
    },
    {
     "name": "stderr",
     "output_type": "stream",
     "text": [
      "9913344it [00:00, 22359456.59it/s]                             \n"
     ]
    },
    {
     "name": "stdout",
     "output_type": "stream",
     "text": [
      "Extracting ./MNIST/raw/train-images-idx3-ubyte.gz to ./MNIST/raw\n",
      "\n",
      "Downloading http://yann.lecun.com/exdb/mnist/train-labels-idx1-ubyte.gz\n",
      "Downloading http://yann.lecun.com/exdb/mnist/train-labels-idx1-ubyte.gz to ./MNIST/raw/train-labels-idx1-ubyte.gz\n"
     ]
    },
    {
     "name": "stderr",
     "output_type": "stream",
     "text": [
      "29696it [00:00, 25106642.13it/s]         "
     ]
    },
    {
     "name": "stdout",
     "output_type": "stream",
     "text": [
      "Extracting ./MNIST/raw/train-labels-idx1-ubyte.gz to ./MNIST/raw\n",
      "\n",
      "Downloading http://yann.lecun.com/exdb/mnist/t10k-images-idx3-ubyte.gz\n"
     ]
    },
    {
     "name": "stderr",
     "output_type": "stream",
     "text": [
      "\n"
     ]
    },
    {
     "name": "stdout",
     "output_type": "stream",
     "text": [
      "Downloading http://yann.lecun.com/exdb/mnist/t10k-images-idx3-ubyte.gz to ./MNIST/raw/t10k-images-idx3-ubyte.gz\n"
     ]
    },
    {
     "name": "stderr",
     "output_type": "stream",
     "text": [
      "1649664it [00:00, 10767076.15it/s]                           \n"
     ]
    },
    {
     "name": "stdout",
     "output_type": "stream",
     "text": [
      "Extracting ./MNIST/raw/t10k-images-idx3-ubyte.gz to ./MNIST/raw\n",
      "\n",
      "Downloading http://yann.lecun.com/exdb/mnist/t10k-labels-idx1-ubyte.gz\n",
      "Downloading http://yann.lecun.com/exdb/mnist/t10k-labels-idx1-ubyte.gz to ./MNIST/raw/t10k-labels-idx1-ubyte.gz\n"
     ]
    },
    {
     "name": "stderr",
     "output_type": "stream",
     "text": [
      "5120it [00:00, 16330674.13it/s]         "
     ]
    },
    {
     "name": "stdout",
     "output_type": "stream",
     "text": [
      "Extracting ./MNIST/raw/t10k-labels-idx1-ubyte.gz to ./MNIST/raw\n",
      "\n"
     ]
    },
    {
     "name": "stderr",
     "output_type": "stream",
     "text": [
      "\n",
      "/tmp/ipykernel_1383/2480407632.py:14: UserWarning: To copy construct from a tensor, it is recommended to use sourceTensor.clone().detach() or sourceTensor.clone().detach().requires_grad_(True), rather than torch.tensor(sourceTensor).\n",
      "  gaussian_data_x = torch.tensor(gaussian_data_x) # 토치 텐서로 변환\n"
     ]
    },
    {
     "data": {
      "text/plain": [
       "<matplotlib.image.AxesImage at 0x7f9cbc2243a0>"
      ]
     },
     "execution_count": 2,
     "metadata": {},
     "output_type": "execute_result"
    },
    {
     "data": {
      "image/png": "[encoded data removed]",
      "text/plain": [
       "<Figure size 432x288 with 2 Axes>"
      ]
     },
     "metadata": {
      "needs_background": "light"
     },
     "output_type": "display_data"
    }
   ],
   "source": [
    "# 학습용 데이터 정의\n",
    "training_data = MNIST(\n",
    "    root = './',\n",
    "    train = True,\n",
    "    download = True,\n",
    "    transform = ToTensor())\n",
    "\n",
    "img = training_data.data[0]\n",
    "gaussian = gaussian_noise(img)\n",
    "\n",
    "plt.subplot(1,2,1)\n",
    "plt.title('original')\n",
    "plt.imshow(img)\n",
    "plt.subplot(1,2,2)\n",
    "plt.title('noisy')\n",
    "plt.imshow(gaussian)"
   ]
  },
  {
   "cell_type": "code",
   "execution_count": 4,
   "id": "e97b1fe3-0d17-4c3d-a07d-5628f8521eb8",
   "metadata": {},
   "outputs": [],
   "source": [
    "from torch.utils.data.dataset import Dataset\n",
    "\n",
    "class Denoising(Dataset):\n",
    "    def __init__(self):\n",
    "        self.mnist = MNIST(\n",
    "            root = './',\n",
    "            train = True,\n",
    "            download = True,\n",
    "            transform = ToTensor())\n",
    "        self.data = [] # 노이즈가 낀 데이터를 담는 리스트\n",
    "        for i in range(len(self.mnist)):\n",
    "            noisy_input = gaussian_noise(self.mnist.data[i])\n",
    "            input_tensor = torch.tensor(noisy_input)\n",
    "            self.data.append(torch.unsqueeze(input_tensor, dim=0))\n",
    "    def __len__(self):\n",
    "        return len(self.data)\n",
    "    \n",
    "    def __get__(self,i):\n",
    "        data = self.data[i]\n",
    "        \n",
    "        # 원본 이미지도 0과 1사이로 값을 맞춰줌\n",
    "        label = self.mnist.data[i]/255\n",
    "        \n",
    "        return data, label\n",
    "        \n",
    "            "
   ]
  },
  {
   "cell_type": "code",
   "execution_count": 5,
   "id": "39db0213-ea08-49c0-8fff-853286506dc7",
   "metadata": {},
   "outputs": [],
   "source": [
    "import torch.nn as nn\n",
    "\n",
    "class BasicBlock(nn.Module):  # 4장에서 사용한 기본 블록 이용\n",
    "    def __init__(self, in_channels, out_channels, hidden_dim):\n",
    "        super(BasicBlock, self).__init__()\n",
    "        \n",
    "        self.conv1 = nn.Conv2d(\n",
    "            in_channels,\n",
    "            hidden_dim,\n",
    "            kernel_size = 3,\n",
    "            padding =1)\n",
    "        self.conv2 = nn.Conv2d(\n",
    "            hidden_dim,\n",
    "            out_channels,\n",
    "            kernel_size = 3,\n",
    "            padding =1)\n",
    "        self.relu = nn.ReLU()\n",
    "        \n",
    "    def forward(self,x):\n",
    "        x = self.conv1(x)\n",
    "        x = self.relu(x)\n",
    "        x = self.conv2(x)\n",
    "        x = self.relu(x)\n",
    "        \n",
    "        return x\n",
    "\n",
    "        \n"
   ]
  },
  {
   "cell_type": "code",
   "execution_count": 7,
   "id": "0eeb008e-0f47-477f-8301-c82152690de4",
   "metadata": {},
   "outputs": [],
   "source": [
    "class Encoder(nn.Module):\n",
    "    def __init__(self):\n",
    "        super(Encoder, self).__init__()\n",
    "        \n",
    "        self.conv1 = BasicBlock(in_channels = 1, out_channels = 16, hidden_dim = 16)\n",
    "        self.conv2 = BasicBlock(in_channels = 16, out_channels = 8, hidden_dim = 8)\n",
    "        \n",
    "        self.pool = nn.AvgPool2d(kernel_size = 2, stride = 2)\n",
    "        \n",
    "    def forward(self, x):  # cnn과 동일하게 합성곱층을 거치고 풀링을 해줌\n",
    "        x = self.conv1(x)\n",
    "        x = self.pool(x)\n",
    "        x = self.conv2(x)\n",
    "        x = self.pool(X)\n",
    "        \n",
    "        return x\n",
    "        \n"
   ]
  },
  {
   "cell_type": "code",
   "execution_count": null,
   "id": "3e52a7ca-a92c-48cc-95b3-81140183e9fa",
   "metadata": {},
   "outputs": [],
   "source": [
    ":"
   ]
  }
 ],
 "metadata": {
  "kernelspec": {
   "display_name": "bio",
   "language": "python",
   "name": "bio"
  },
  "language_info": {
   "codemirror_mode": {
    "name": "ipython",
    "version": 3
   },
   "file_extension": ".py",
   "mimetype": "text/x-python",
   "name": "python",
   "nbconvert_exporter": "python",
   "pygments_lexer": "ipython3",
   "version": "3.9.12"
  }
 },
 "nbformat": 4,
 "nbformat_minor": 5
}
