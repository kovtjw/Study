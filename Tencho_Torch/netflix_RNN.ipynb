{
 "cells": [
  {
   "cell_type": "code",
   "execution_count": 1,
   "id": "28571d8a-423a-44c2-bfd9-ef614116bd05",
   "metadata": {},
   "outputs": [
    {
     "name": "stdout",
     "output_type": "stream",
     "text": [
      "<class 'pandas.core.frame.DataFrame'>\n",
      "RangeIndex: 967 entries, 0 to 966\n",
      "Data columns (total 6 columns):\n",
      " #   Column  Non-Null Count  Dtype \n",
      "---  ------  --------------  ----- \n",
      " 0   Date    967 non-null    object\n",
      " 1   Open    967 non-null    int64 \n",
      " 2   High    967 non-null    int64 \n",
      " 3   Low     967 non-null    int64 \n",
      " 4   Volume  967 non-null    int64 \n",
      " 5   Close   967 non-null    int64 \n",
      "dtypes: int64(5), object(1)\n",
      "memory usage: 45.5+ KB\n"
     ]
    }
   ],
   "source": [
    "import pandas as pd\n",
    "\n",
    "data = pd.read_csv ('./dataset/netflix-stock-prediction/train.csv')\n",
    "data.head()\n",
    "data.info()"
   ]
  },
  {
   "cell_type": "code",
   "execution_count": 2,
   "id": "c4b91bcc-35bb-4fdb-a6bd-9078d914358b",
   "metadata": {},
   "outputs": [
    {
     "data": {
      "image/png": "[encoded data removed]",
      "text/plain": [
       "<Figure size 432x288 with 4 Axes>"
      ]
     },
     "metadata": {
      "needs_background": "light"
     },
     "output_type": "display_data"
    }
   ],
   "source": [
    "import matplotlib.pyplot as plt\n",
    "\n",
    "data_used = data.iloc[:, 1:4]\n",
    "# df.iloc[행 인덱스, 열 인덱스] : 행이나 컬럼의 순서를 나타내는 정수로 특정 값을 추출해오는 방식\n",
    "data_used['Closed'] = data['Close']\n",
    "hist = data_used.hist()\n",
    "plt.show()\n",
    "\n",
    "# 출력값의 범위가 커지면, 오차의 범위도 커져서 기울기가 커지기 때문에 정규화 필요함\n"
   ]
  },
  {
   "cell_type": "code",
   "execution_count": 3,
   "id": "9276fdad-d377-4522-841b-ac2c62df0a6c",
   "metadata": {},
   "outputs": [
    {
     "name": "stderr",
     "output_type": "stream",
     "text": [
      "/opt/conda/envs/bio/lib/python3.9/site-packages/tqdm/auto.py:22: TqdmWarning: IProgress not found. Please update jupyter and ipywidgets. See https://ipywidgets.readthedocs.io/en/stable/user_install.html\n",
      "  from .autonotebook import tqdm as notebook_tqdm\n"
     ]
    }
   ],
   "source": [
    "import numpy as np\n",
    "import torch\n",
    "from torch.utils.data.dataset import Dataset\n",
    "\n",
    "\n",
    "class Netflix(Dataset):\n",
    "    def __init(self):\n",
    "        # 데이터 읽기\n",
    "        self.csv = pd.read_csv('./dataset/netflix-stock-prediction/train.csv')\n",
    "        \n",
    "        # 입력 데이터 정규화\n",
    "        self.data = self.csv.iloc[:,1:4].valuse # 종가 제외한 데이터\n",
    "        self.data = self.data / np.max(self.data) # 0과 1사이로 정규화\n",
    "        \n",
    "        # 종가 데이터 정규화\n",
    "        self.label = data['Close'].valuse\n",
    "        self.label = self.label / np.max(self.label)\n",
    "        \n",
    "    def __len__(self):\n",
    "        return len(self.data) - 30\n",
    "    \n",
    "    def __getitem__(self, i):\n",
    "        data = self.data[i:i+30]\n",
    "        label = self.label[i+30]\n",
    "        \n",
    "        return data, label\n",
    "    "
   ]
  },
  {
   "cell_type": "code",
   "execution_count": 7,
   "id": "164a1f3a-5091-4606-8ea5-19530a97bf4e",
   "metadata": {},
   "outputs": [],
   "source": [
    "import torch\n",
    "import torch.nn as nn\n",
    "\n",
    "class RNN(nn.Module):\n",
    "    def __init__(self):\n",
    "        super(RNN,self).__init__()\n",
    "        \n",
    "        # RNN층의 정의\n",
    "        self.rnn = nn.RNN(input_size =3, hidden_size = 8, num_layers = 5,\n",
    "                          batch_first = True)\n",
    "        # input_size = 입력 텐서의 특징 개수 / 개장가, 최고가, 최저가를 하나로 묶어서 3임\n",
    "        # hidden_size = RNN 층에서 각 시점의 차원 \n",
    "        # num_layers = RNN의 층 개수 > 일반적으로 5나 3을 사용\n",
    "        # batch_first = 배치를 가장 앞으로 오게함 \n",
    "        # 현재 개장가, 최고가, 최저가를 30일치 묵었기 때문에 (30,3) 모양을 갖는 텐서를 (32,30,3)으로 만들어 줌\n",
    "        # false면 (30,3,32)\n",
    "        \n",
    "    def forward(self, x, h0):\n",
    "        x, hn = self.rnn(x, h0)  # RNN 층의 출력\n",
    "        \n",
    "        # MLP층의 입력으로 사용되게 모양 변경\n",
    "        x = torch.reshape(x, (x.shape[0], -1))\n",
    "        \n",
    "        # MLP층을 이용해 종가 예측\n",
    "        x = self.fc1(x)\n",
    "        x = self.relu(x)\n",
    "        x = self.fc2(x)\n",
    "        \n",
    "        # 예측한 종가를 1차원 벡터로 표현\n",
    "        x = torch.flatten(x)\n",
    "        \n",
    "        return x\n",
    "        \n"
   ]
  },
  {
   "cell_type": "code",
   "execution_count": null,
   "id": "67d1b269-41f5-465f-a856-3bb673d79f07",
   "metadata": {},
   "outputs": [],
   "source": [
    "import tqdm\n",
    "\n",
    "from torch.optim.adam import Adam\n",
    "from torch.utilx.data.dataloader import DataLoader\n",
    "\n",
    "import matplotlib.pyplot as plt\n",
    "\n",
    "device = 'cuda' if torch.cuda.is_availabel() else 'cpu'\n",
    "\n",
    "model = RNN().to(device)\n",
    "dataset = Netflix()\n",
    "loader = DataLoader(dataset, batch_size = 32)\n",
    "optim = Adam(params = model.parameters(), lr = 0.0001) \n",
    "\n",
    "for epoch in range(200):\n",
    "    iterator = tqdm.tqdm(loader)\n",
    "    for data, label in iterator:\n",
    "        optim.zero_grad()\n",
    "        \n",
    "        # 초기 은닉 상태\n",
    "        h0 = torch.zeros(5, data.shape[0],8).to(device)\n",
    "        \n",
    "        # 모델의 예측값\n",
    "        pred = model(data.type(torch.FloatTensor).to(device),h0)\n",
    "        \n",
    "        # 손실의 계산\n",
    "        loss = nn.MSELoss()(pred,\n",
    "                            label.type(torch.FloatTensor).to(device)\n",
    "        loss.backward()\n",
    "        optim.step()\n",
    "        iterator.set_description(f'epoch{epoch} loss:{loss.item)}')\n",
    "torch.save(model.state_dict(), './rnn.pth') # 모델 저장\n",
    "\n",
    "loader = DataLoader(dataset, batch_size = 1)\n",
    "preds = []\n",
    "total_loss = 0\n",
    "\n",
    "        "
   ]
  }
 ],
 "metadata": {
  "kernelspec": {
   "display_name": "bio",
   "language": "python",
   "name": "bio"
  },
  "language_info": {
   "codemirror_mode": {
    "name": "ipython",
    "version": 3
   },
   "file_extension": ".py",
   "mimetype": "text/x-python",
   "name": "python",
   "nbconvert_exporter": "python",
   "pygments_lexer": "ipython3",
   "version": "3.9.12"
  }
 },
 "nbformat": 4,
 "nbformat_minor": 5
}
