{
 "cells": [
  {
   "cell_type": "markdown",
   "metadata": {},
   "source": [
    "# Mask R-CNN\n",
    "\n",
    "- 객체 탐지 모델으로부터 시작\n",
    "\n",
    "  - 예측된 경계 상자가 정확하면 분할 네트워크가 할 일은 단순\n",
    "\n",
    "  - 해당 패치에서 어느 픽셀이 캡처된 클래스에 속하는지, 어느 픽셀이 배경의 일부이고 어느 픽셀이 다른 클래스에 속하는지 분류\n",
    "\n",
    "- 사전 훈련된 탐지 네트워크와 뒤에 사전 훈련된 분할 네트워크를 하나로 이어서 End-to-End 방식으로 훈련하여 전체 파이프라인의 성능이 좋아짐을 보임\n",
    "\n",
    "- Facebook AI Research(FAIR)\n",
    "\n",
    "- 주로 Faster R-CNN에 기반\n",
    "\n",
    "  - 참고 \n",
    "    - https://curt-park.github.io/2017-03-17/faster-rcnn/ \n",
    "\n",
    "    - https://tensorflow.blog/2017/06/05/from-r-cnn-to-mask-r-cnn/\n",
    "- 3번째 병렬 분기를 추가해 확장함으로써 각 영역의 요소에 대한 이진 마스크 출력\n",
    "\n",
    "  - 해당 분류기를 통해 분류와 분할을 분리할 수 있음\n",
    "\n",
    "  - 분할 분기는 N개의 이진 마스크(다른 일반적인 의미론적 분할 모델처럼 클래스당 한 개)를 출력하도록 정의되지만,  \n",
    "    다른 분기에 의해 예측된 클래스에 대응하는 마스크만 최종 예측과 훈련 손실을 계산할 때 사용됨\n",
    "\n",
    "  <img src=\"https://miro.medium.com/max/6060/1*M_ZhHp8OXzWxEsfWu2e5EA.png\">\n",
    "\n",
    "  <sub>[이미지 출처] https://medium.com/@jonathan_hui/image-segmentation-with-mask-r-cnn-ebe6d793272</sub>"
   ]
  },
  {
   "cell_type": "code",
   "execution_count": 1,
   "metadata": {},
   "outputs": [
    {
     "name": "stderr",
     "output_type": "stream",
     "text": [
      "  ERROR: Command errored out with exit status 128:\n",
      "   command: git clone -q https://www.tensorflow.org/tutorials/images/segmentation 'C:\\Users\\bitcamp\\AppData\\Local\\Temp\\pip-req-build-gn969x5f'\n",
      "       cwd: None\n",
      "  Complete output (1 lines):\n",
      "  fatal: repository 'https://www.tensorflow.org/tutorials/images/segmentation/' not found\n",
      "  ----------------------------------------\n",
      "WARNING: Discarding git+https://www.tensorflow.org/tutorials/images/segmentation. Command errored out with exit status 128: git clone -q https://www.tensorflow.org/tutorials/images/segmentation 'C:\\Users\\bitcamp\\AppData\\Local\\Temp\\pip-req-build-gn969x5f' Check the logs for full command output.\n",
      "ERROR: Command errored out with exit status 128: git clone -q https://www.tensorflow.org/tutorials/images/segmentation 'C:\\Users\\bitcamp\\AppData\\Local\\Temp\\pip-req-build-gn969x5f' Check the logs for full command output.\n"
     ]
    }
   ],
   "source": [
    "!pip install -q git+https://www.tensorflow.org/tutorials/images/segmentation\n",
    "!pip install -q -U tfds-nightly"
   ]
  },
  {
   "cell_type": "code",
   "execution_count": null,
   "metadata": {},
   "outputs": [],
   "source": []
  }
 ],
 "metadata": {
  "interpreter": {
   "hash": "f3656f27d927fd75ab997cae19814cfd2f386afe18d37dcd89096e1a1260f416"
  },
  "kernelspec": {
   "display_name": "Python 3.9.7 ('realtorch')",
   "language": "python",
   "name": "python3"
  },
  "language_info": {
   "codemirror_mode": {
    "name": "ipython",
    "version": 3
   },
   "file_extension": ".py",
   "mimetype": "text/x-python",
   "name": "python",
   "nbconvert_exporter": "python",
   "pygments_lexer": "ipython3",
   "version": "3.9.7"
  },
  "orig_nbformat": 4
 },
 "nbformat": 4,
 "nbformat_minor": 2
}
