{
 "cells": [
  {
   "cell_type": "code",
   "execution_count": 1,
   "metadata": {},
   "outputs": [
    {
     "name": "stdout",
     "output_type": "stream",
     "text": [
      "1.0.1\n"
     ]
    }
   ],
   "source": [
    "import sklearn\n",
    "print(sklearn.__version__)"
   ]
  },
  {
   "cell_type": "markdown",
   "metadata": {},
   "source": [
    "# 변수\n",
    "- 어떠한 값을 저장하는 공간(메모리)\n",
    "- 일반적으로 데이터의 저장 위치와 데이터 값으로 구분\n",
    "- 변수에 값을 넣는 순간 메모리 저장 위치를 할당하고 그 위치는 메모리 주소로 관리"
   ]
  },
  {
   "cell_type": "code",
   "execution_count": 3,
   "metadata": {},
   "outputs": [
    {
     "name": "stdout",
     "output_type": "stream",
     "text": [
      "jung won\n",
      "123\n"
     ]
    }
   ],
   "source": [
    "name = 'jung won'\n",
    "print(name)\n",
    "num = 123\n",
    "print(num)"
   ]
  },
  {
   "cell_type": "markdown",
   "metadata": {},
   "source": [
    "- 알파벳, 숫자, 언더바로 선언 가능\n",
    "- 의미있는 단어로 표기하는 것이 좋은 (가독성)\n",
    "- 대소문자 구분\n",
    "- 특별한 의미가 있는 예약어는 사용할 수 없음\n"
   ]
  },
  {
   "cell_type": "code",
   "execution_count": 6,
   "metadata": {},
   "outputs": [
    {
     "name": "stdout",
     "output_type": "stream",
     "text": [
      "abc\n",
      "123\n",
      "123\n"
     ]
    }
   ],
   "source": [
    "abc = 'abc'\n",
    "abc_123 = 123\n",
    "Abc_123 = 123\n",
    "print(abc)\n",
    "print(abc_123)\n",
    "print(Abc_123)\n"
   ]
  },
  {
   "cell_type": "markdown",
   "metadata": {},
   "source": [
    "# 자료형\n",
    "- 논리형 : 불리언, 참 또는 거짓\n",
    "- 수치형 : 정수, 실수\n",
    "- 시퀀스형\n",
    "리스트 : 여러 요소를 묶어 하나의 변수로 사용\n",
    "튜플 : 리스트와 유사, 생성, 삭제, 수정 불가\n",
    "범위 : 숫자의 불변한 시퀀스 형태\n",
    "- 불변 집합 : 불변한 집합\n",
    "- 매핑형\n",
    "딕셔너리 : 키와 값이 쌍으로 들어간 자료형\n",
    "\n"
   ]
  },
  {
   "cell_type": "code",
   "execution_count": null,
   "metadata": {},
   "outputs": [],
   "source": []
  }
 ],
 "metadata": {
  "interpreter": {
   "hash": "3b2a3e2f2f3becee12495ea02e16c44ac6a87253b3da619be1b2ce1aceff9a27"
  },
  "kernelspec": {
   "display_name": "Python 3.9.7 64-bit ('tf270gpu': conda)",
   "language": "python",
   "name": "python3"
  },
  "language_info": {
   "codemirror_mode": {
    "name": "ipython",
    "version": 3
   },
   "file_extension": ".py",
   "mimetype": "text/x-python",
   "name": "python",
   "nbconvert_exporter": "python",
   "pygments_lexer": "ipython3",
   "version": "3.9.7"
  },
  "orig_nbformat": 4
 },
 "nbformat": 4,
 "nbformat_minor": 2
}
