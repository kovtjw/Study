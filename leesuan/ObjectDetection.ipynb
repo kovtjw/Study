{
 "cells": [
  {
   "cell_type": "markdown",
   "metadata": {},
   "source": [
    "# 객체 탐지 \n",
    "- 한 이미지에서 객체와 그 경계 상자(bounding box)를 탐지\n",
    "- 객체 탐지 알고리즘은 일반적으로 이미지를 입역으로 받고, 경계 상자와 객체 클래스 리스트를 출력\n",
    "- 경계 상자에 대해 그에 대응하는 예측 클래스와 클래스의 신뢰도를 출력"
   ]
  },
  {
   "cell_type": "markdown",
   "metadata": {},
   "source": [
    "# IOU(Intersection Over Union)\n",
    "- 실측값과 모델이 예측한 값이 얼마나 겹치는지를 나타내는 지표"
   ]
  },
  {
   "cell_type": "markdown",
   "metadata": {},
   "source": [
    "# NMS (비최댓값 억제)\n",
    "- 확률이 가장 높은 상자와 겹치는 상자들을 제거하는 과정\n",
    "- 최댓값을 갖지 않는 상자들을 제거"
   ]
  },
  {
   "cell_type": "markdown",
   "metadata": {},
   "source": [
    "# 정밀도와 재현율 \n",
    "- 일반적으로 객체 탐지 모델 평가에사용되지는 않지만, 다른 지표를 계산하는 기본 지표 역할을 함"
   ]
  },
  {
   "cell_type": "code",
   "execution_count": null,
   "metadata": {},
   "outputs": [],
   "source": []
  }
 ],
 "metadata": {
  "language_info": {
   "name": "python"
  },
  "orig_nbformat": 4
 },
 "nbformat": 4,
 "nbformat_minor": 2
}
