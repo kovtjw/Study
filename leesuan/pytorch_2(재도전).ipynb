{
 "cells": [
  {
   "cell_type": "markdown",
   "metadata": {},
   "source": [
    "# 파이토치의 구성요소\n",
    "- torch: 텐서를 생성하는 라이브러리\n",
    "\n",
    "- torch.autograd: 자동미분 기능을 제공하는 라이브러리\n",
    "\n",
    "- torch.nn: 신경망을 생성하는 라이브러리\n",
    "\n",
    "- torch.multiprocessing: 병럴처리 기능을 제공하는 라이브러리\n",
    "\n",
    "- torch.utils: 데이터 조작 등 유틸리티 기능 제공\n",
    "\n",
    "- torch.legacy(./nn/.optim): Torch로부터 포팅해온 코드\n",
    "\n",
    "- torch.onnx: ONNX(Open Neural Network Exchange)\n",
    "    - 서로 다른 프레임워크 간의 모델을 공유할 때 사용"
   ]
  },
  {
   "cell_type": "code",
   "execution_count": 1,
   "metadata": {},
   "outputs": [],
   "source": [
    "import torch"
   ]
  },
  {
   "cell_type": "code",
   "execution_count": 2,
   "metadata": {},
   "outputs": [
    {
     "data": {
      "text/plain": [
       "'1.8.1+cpu'"
      ]
     },
     "execution_count": 2,
     "metadata": {},
     "output_type": "execute_result"
    }
   ],
   "source": [
    "torch.__version__"
   ]
  },
  {
   "cell_type": "code",
   "execution_count": null,
   "metadata": {},
   "outputs": [],
   "source": []
  }
 ],
 "metadata": {
  "interpreter": {
   "hash": "b69a98d3df882577ba469635c4ab08c5ae67eaedfd3a57f311f98966a6edb2d0"
  },
  "kernelspec": {
   "display_name": "Python 3.9.7 ('torch')",
   "language": "python",
   "name": "python3"
  },
  "language_info": {
   "codemirror_mode": {
    "name": "ipython",
    "version": 3
   },
   "file_extension": ".py",
   "mimetype": "text/x-python",
   "name": "python",
   "nbconvert_exporter": "python",
   "pygments_lexer": "ipython3",
   "version": "3.9.7"
  },
  "orig_nbformat": 4
 },
 "nbformat": 4,
 "nbformat_minor": 2
}
