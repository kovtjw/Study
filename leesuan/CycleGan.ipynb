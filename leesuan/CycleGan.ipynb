{
 "cells": [
  {
   "cell_type": "markdown",
   "metadata": {},
   "source": [
    "# CycleGAN\n",
    "\n",
    "- 조건부 GAN을 사용하여 페어링되지 않은 이미지 대 이미지 변환\n",
    "\n",
    "- 한 이미지 도메인의 특성을 캡처하고 이러한 특성을 다른 이미지 도메인으로 변환 할 수있는 방법을 알아낼 수있는 방법을 제안\n",
    "\n",
    "- Pix2Pix와의 차이는 추가 손실 함수와 페어링되지 않은 훈련 데이터의 사용한다는 점\n",
    "\n",
    "- CycleGAN은 a cycle consistency loss를 사용하여 쌍을 이루는 데이터 없이도 훈련을 가능하게 함  \n",
    "  즉, 소스 및 대상 도메인 간의 일대일 매핑없이 한 도메인에서 다른 도메인으로 변환 가능\n",
    "\n",
    "- 이것은 사진 향상, 이미지 색상 화, 스타일 전송 등과 같은 많은 흥미로운 작업을 수행 할 수있는 가능성을 열어줌  \n",
    "  필요한 것은 소스와 대상 데이터 세트 (단순히 이미지 디렉토리)뿐임\n",
    "\n",
    "  <img src=\"https://www.tensorflow.org/tutorials/generative/images/horse2zebra_1.png\">\n",
    "\n",
    "  <img src=\"https://www.tensorflow.org/tutorials/generative/images/horse2zebra_2.png\">"
   ]
  },
  {
   "cell_type": "code",
   "execution_count": null,
   "metadata": {},
   "outputs": [],
   "source": []
  },
  {
   "cell_type": "code",
   "execution_count": null,
   "metadata": {},
   "outputs": [],
   "source": []
  }
 ],
 "metadata": {
  "language_info": {
   "name": "python"
  },
  "orig_nbformat": 4
 },
 "nbformat": 4,
 "nbformat_minor": 2
}
