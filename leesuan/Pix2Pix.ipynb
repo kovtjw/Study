{
 "cells": [
  {
   "cell_type": "markdown",
   "metadata": {},
   "source": [
    "# Pix2Pix\n",
    "\n",
    "- 조건부 적대 네트워크를 사용한 이미지-이미지 변환에 설명 된대로 조건부 GAN을 사용하여 이미지를 이미지로 변환하는 방법\n",
    "\n",
    "- 이 기술을 사용하여 흑백 사진에 색을 입히고 Google지도를 Google 어스로 변환하는 등의 작업을 수행 할 수 있음\n",
    "\n",
    "- 아래의 사진처럼 건물의 외관을 실제 건물로 변환할 수 있음\n",
    "\n",
    "  <img src=\"https://www.tensorflow.org/images/gan/pix2pix_1.png\">\n",
    "\n",
    "  <img src=\"https://www.tensorflow.org/images/gan/pix2pix_2.png\">"
   ]
  },
  {
   "cell_type": "code",
   "execution_count": 19,
   "metadata": {},
   "outputs": [],
   "source": [
    "import tensorflow as tf \n",
    "import os\n",
    "import time\n",
    "from matplotlib import pyplot as plt\n",
    "from IPython import display\n",
    "from glob import glob\n",
    "from PIL import Image\n",
    "import numpy as np\n"
   ]
  },
  {
   "cell_type": "markdown",
   "metadata": {},
   "source": [
    "## 데이터셋 로드\n",
    "\n",
    "- 임의 jittering에서 286x286 크기의 이미지가 무작위로 256x256으로 잘림\n",
    "\n",
    "- 랜덤 미러링에서는 이미지가 좌우로 무작위로 반전됨\n",
    "\n",
    "- https://people.eecs.berkeley.edu/~tinghuiz/projects/pix2pix/datasets/facades.tar.gz"
   ]
  },
  {
   "cell_type": "code",
   "execution_count": 20,
   "metadata": {},
   "outputs": [],
   "source": [
    "BUFFER_SIZE = 400 \n",
    "BATCH_SIZE = 1\n",
    "IMG_WIDTH = 256\n",
    "IMG_HEIGHT = 256"
   ]
  },
  {
   "cell_type": "code",
   "execution_count": 21,
   "metadata": {},
   "outputs": [],
   "source": [
    "def load(image_file):\n",
    "    image = tf.io.read_file(image_file)\n",
    "    image = tf.image.decode_jpeg(image)\n",
    "    w = tf.hape(image)[1]\n",
    "    \n",
    "    w = w // 2\n",
    "    real_image = image[:, :w, :]\n",
    "    input_image = image[:, w:, :]\n",
    "    \n",
    "    imput_image = tf.cast(input_image, tf.float32)\n",
    "    real_image = tf.cast(real_image, tf.float32)\n",
    "    \n",
    "    return input_image, real_image\n",
    "    "
   ]
  },
  {
   "cell_type": "code",
   "execution_count": 22,
   "metadata": {},
   "outputs": [
    {
     "name": "stdout",
     "output_type": "stream",
     "text": [
      "Total samples: 0.\n",
      "Total training samples: 0.\n",
      "Total validation samples: 0.\n"
     ]
    }
   ],
   "source": [
    "PATH = 'D:\\_data\\dataset_pix2pix\\facades\\facades'\n",
    "SPLIT = 0.2\n",
    "\n",
    "files = glob(PATH + \"*.jpg\")\n",
    "np.random.shuffle(files)\n",
    "\n",
    "split_index = int(len(files) * (1 - SPLIT))\n",
    "train_files = files[:split_index]\n",
    "val_files = files[split_index:]\n",
    "\n",
    "print(f\"Total samples: {len(files)}.\")\n",
    "print(f\"Total training samples: {len(train_files)}.\")\n",
    "print(f\"Total validation samples: {len(val_files)}.\")"
   ]
  },
  {
   "cell_type": "code",
   "execution_count": null,
   "metadata": {},
   "outputs": [],
   "source": []
  }
 ],
 "metadata": {
  "interpreter": {
   "hash": "3b2a3e2f2f3becee12495ea02e16c44ac6a87253b3da619be1b2ce1aceff9a27"
  },
  "kernelspec": {
   "display_name": "Python 3.9.7 ('tf270gpu')",
   "language": "python",
   "name": "python3"
  },
  "language_info": {
   "codemirror_mode": {
    "name": "ipython",
    "version": 3
   },
   "file_extension": ".py",
   "mimetype": "text/x-python",
   "name": "python",
   "nbconvert_exporter": "python",
   "pygments_lexer": "ipython3",
   "version": "3.9.7"
  },
  "orig_nbformat": 4
 },
 "nbformat": 4,
 "nbformat_minor": 2
}
