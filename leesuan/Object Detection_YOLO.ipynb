{
 "cells": [
  {
   "cell_type": "markdown",
   "metadata": {},
   "source": [
    "# 객체 탐지\n",
    "- 한 이미지에서 객체와 그 경계 상자를 탐지\n",
    "- 객제 탐지 알고리즘은 일반적으로 이미지를 입력으로 받고, 경계 상자와 객체 클래스 리스트를 출력\n",
    "- 경계  상자에 대해 그에 대응하는 예측 클래스와 클래스의 신뢰도를 출력\n"
   ]
  },
  {
   "cell_type": "code",
   "execution_count": 2,
   "metadata": {},
   "outputs": [],
   "source": [
    "# Bounding Box : 이미지에서 하나의 객체 전체를 포함하는 가장 작은 직사각형\n",
    "# IoU : 실측값과 모델이 예측한 값이 얼마나 겹치는지를 나타내는 지표\n",
    "import numpy as np\n",
    "def copute_iou(pred_box, gt_box):\n",
    "    x1 = np.maximum(pred_box[0], gt_box[0])\n",
    "    y1 = np.maximum(pred_box[1], gt_box[1])\n",
    "    x2 = np.maximum(pred_box[2], gt_box[2])\n",
    "    y2 = np.maximum(pred_box[3], gt_box[3])\n",
    "    \n",
    "    intersetcion = np.maximum(x2 - x1, 0) * np.maximum(y2 - y1, 0)\n",
    "    \n",
    "    pred_box_area = (pred_box[2]- pred_box[0]*(pred_box[3]-pred_box[1]))\n",
    "    gt_box_area = (gt_box[2]- gt_box[0]*(gt_box[3]-gt_box[1]))\n",
    "    \n",
    "    union = pred_box_area + gt_box_area - intersetcion\n",
    "    \n",
    "    iou = intersetcion / union\n",
    "    \n",
    "    return iou\n",
    "    \n",
    "    \n",
    "   "
   ]
  },
  {
   "cell_type": "markdown",
   "metadata": {},
   "source": [
    "# NMS:비최댓값 억제\n",
    "- 확률이 가장 높은 상자와 겹치는 상자들을 제거하는 과정\n",
    "- 최댓값을 갖지 않는 상자들을 제거"
   ]
  },
  {
   "cell_type": "code",
   "execution_count": 3,
   "metadata": {},
   "outputs": [],
   "source": [
    "import numpy as np\n",
    "\n",
    "def non_max_suppression_fast(boxes, overlap_thresh):\n",
    "    if len(boxes) == 0:\n",
    "        return []\n",
    "    \n",
    "    if boxes.dtype.kind == 'i':\n",
    "        boxes = boxes.astype('float')\n",
    "        \n",
    "    pick = []\n",
    "    x1 = boxes[:,0]\n",
    "    y1 = boxes[:,1]\n",
    "    x2 = boxes[:,2]\n",
    "    y2 = boxes[:,3]\n",
    "    area = (x2 - x1 + 1)*(y2 - y1 + 1)\n",
    "    idxs = np.argsort(y2)\n",
    "    \n",
    "    while len(idxs) > 0:\n",
    "        last = len(idxs)-1 \n",
    "        i = idxs[last] \n",
    "        pick.append(i)\n",
    "        \n",
    "        xx1 = np.maximum(x1[i], x1[idxs[:last]]) \n",
    "        yy1 = np.maximum(x1[i], y1[idxs[:last]]) \n",
    "        xx2 = np.maximum(x1[i], x2[idxs[:last]]) \n",
    "        yy2 = np.maximum(x1[i], y2[idxs[:last]])\n",
    "        \n",
    "        w = np.maximum(0, xx2 - xx1 +1)\n",
    "        h = np.maximum(0, yy2 - yy1 +1)\n",
    "        \n",
    "        overlap = (w*h) / area[idxs[:last]]  \n",
    "        \n",
    "        idxs = np.delete(idxs, np.concatenate(([last], np.where(overlap > overlap_thresh)[0])))\n",
    "    return boxes[pick].astype('int')   "
   ]
  },
  {
   "cell_type": "markdown",
   "metadata": {},
   "source": [
    "# 모델 성능 평가"
   ]
  },
  {
   "cell_type": "markdown",
   "metadata": {},
   "source": [
    "# 정밀도와 재현율 \n",
    "- 일반적으로 객체 탐지 모델 평가에 사용되지는 않지만, 다른 지표를 계산하는 기본 지표 역할을 함\n",
    "\n",
    "    - TP : 예측이 동일 클래스의 실제 상자와 일치하는지 \n",
    "    - FP : 예측이 실제 상자와 일치하지 않는지\n",
    "    - FN : 실제 분류값이 그와 일치하는 예측을 갖지 못하는지"
   ]
  },
  {
   "cell_type": "markdown",
   "metadata": {},
   "source": [
    "# YOLO \n",
    "- 가장 빠른 객체 검출 알고리즘 중 하나\n",
    "- 256 x 256 사이즈의 이미지\n",
    "- 작은 크기의 물체 탐지 어려움 > 개선 중"
   ]
  },
  {
   "cell_type": "markdown",
   "metadata": {},
   "source": [
    "# YOLO backbone\n",
    "- backbone model 기반\n",
    "- 특징 추출기라고도 불림\n",
    "- yolo는 자체 맞춤 아키텍쳐 사용\n",
    "- 어떤 추출기 아키텍쳐를 사용했는지에 따라 성능 달라짐\n"
   ]
  },
  {
   "cell_type": "code",
   "execution_count": null,
   "metadata": {},
   "outputs": [],
   "source": [
    "!git clone "
   ]
  }
 ],
 "metadata": {
  "interpreter": {
   "hash": "3b2a3e2f2f3becee12495ea02e16c44ac6a87253b3da619be1b2ce1aceff9a27"
  },
  "kernelspec": {
   "display_name": "Python 3.9.7 64-bit ('tf270gpu': conda)",
   "language": "python",
   "name": "python3"
  },
  "language_info": {
   "codemirror_mode": {
    "name": "ipython",
    "version": 3
   },
   "file_extension": ".py",
   "mimetype": "text/x-python",
   "name": "python",
   "nbconvert_exporter": "python",
   "pygments_lexer": "ipython3",
   "version": "3.9.7"
  },
  "orig_nbformat": 4
 },
 "nbformat": 4,
 "nbformat_minor": 2
}
