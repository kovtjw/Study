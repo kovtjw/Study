{
 "cells": [
  {
   "cell_type": "markdown",
   "metadata": {},
   "source": [
    "# 자연어 처리(NLP)\n",
    "- 자연어는 일상 생활에서 사용하는 언어\n",
    "- 자연어의 의미를 분석, 처리하는 일\n",
    "- 텍스트 분류, 감성 분석, 문서 요약, 번역, 질의 응답, 음성인식, 책봇과 같은 응용"
   ]
  },
  {
   "cell_type": "markdown",
   "metadata": {},
   "source": [
    "# 텍스트 처리"
   ]
  },
  {
   "cell_type": "code",
   "execution_count": null,
   "metadata": {},
   "outputs": [],
   "source": []
  }
 ],
 "metadata": {
  "language_info": {
   "name": "python"
  },
  "orig_nbformat": 4
 },
 "nbformat": 4,
 "nbformat_minor": 2
}
