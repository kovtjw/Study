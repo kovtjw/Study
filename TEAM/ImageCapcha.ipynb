{
 "cells": [
  {
   "cell_type": "code",
   "execution_count": 2,
   "metadata": {},
   "outputs": [],
   "source": [
    "from captcha.image import ImageCaptcha\n",
    "\n",
    "image = ImageCaptcha(width=200, height = 50)\n",
    "txt_captcha = 'zoonzn2'\n",
    "\n",
    "image.generate(txt_captcha)\n",
    "image.write(txt_captcha, 'captcha_result16.png')"
   ]
  },
  {
   "cell_type": "code",
   "execution_count": 3,
   "metadata": {},
   "outputs": [
    {
     "ename": "NameError",
     "evalue": "name '__file__' is not defined",
     "output_type": "error",
     "traceback": [
      "\u001b[1;31m---------------------------------------------------------------------------\u001b[0m",
      "\u001b[1;31mNameError\u001b[0m                                 Traceback (most recent call last)",
      "\u001b[1;32m~\\AppData\\Local\\Temp/ipykernel_9680/2249221066.py\u001b[0m in \u001b[0;36m<module>\u001b[1;34m\u001b[0m\n\u001b[0;32m      2\u001b[0m \u001b[1;32mimport\u001b[0m \u001b[0mos\u001b[0m\u001b[1;33m,\u001b[0m\u001b[0mrandom\u001b[0m\u001b[1;33m,\u001b[0m \u001b[0mstring\u001b[0m\u001b[1;33m\u001b[0m\u001b[1;33m\u001b[0m\u001b[0m\n\u001b[0;32m      3\u001b[0m \u001b[1;33m\u001b[0m\u001b[0m\n\u001b[1;32m----> 4\u001b[1;33m \u001b[0mpath\u001b[0m \u001b[1;33m=\u001b[0m \u001b[0mos\u001b[0m\u001b[1;33m.\u001b[0m\u001b[0mpath\u001b[0m\u001b[1;33m.\u001b[0m\u001b[0mdirname\u001b[0m\u001b[1;33m(\u001b[0m\u001b[0mos\u001b[0m\u001b[1;33m.\u001b[0m\u001b[0mpath\u001b[0m\u001b[1;33m.\u001b[0m\u001b[0mrealpath\u001b[0m\u001b[1;33m(\u001b[0m\u001b[0m__file__\u001b[0m\u001b[1;33m)\u001b[0m\u001b[1;33m)\u001b[0m                  \u001b[1;31m# 어디서 열어도 실행 가능하게 현재 파일이 열린 경로를 가져온다\u001b[0m\u001b[1;33m\u001b[0m\u001b[1;33m\u001b[0m\u001b[0m\n\u001b[0m\u001b[0;32m      5\u001b[0m \u001b[1;33m\u001b[0m\u001b[0m\n\u001b[0;32m      6\u001b[0m \u001b[0mstring_pool\u001b[0m \u001b[1;33m=\u001b[0m \u001b[0mstring\u001b[0m\u001b[1;33m.\u001b[0m\u001b[0mdigits\u001b[0m \u001b[1;33m+\u001b[0m \u001b[0mstring\u001b[0m\u001b[1;33m.\u001b[0m\u001b[0mascii_letters\u001b[0m                  \u001b[1;31m# 숫자 0~9 + 알파벳 a~z 대소문자 포함, string.punctuation 모든특수문자\u001b[0m\u001b[1;33m\u001b[0m\u001b[1;33m\u001b[0m\u001b[0m\n",
      "\u001b[1;31mNameError\u001b[0m: name '__file__' is not defined"
     ]
    }
   ],
   "source": [
    "from captcha.image import ImageCaptcha\n",
    "import os,random, string\n",
    "\n",
    "path = os.path.dirname(os.path.realpath(__file__))                  # 어디서 열어도 실행 가능하게 현재 파일이 열린 경로를 가져온다\n",
    "\n",
    "string_pool = string.digits + string.ascii_letters                  # 숫자 0~9 + 알파벳 a~z 대소문자 포함, string.punctuation 모든특수문자\n",
    "\n",
    "txt_captcha = \"\"                                                    # 캡챠text 받아줄 빈 문자열\n",
    "\n",
    "image = ImageCaptcha(width=200, height = 50)                        # 함수 선언 및 width,height 설정\n",
    "\n",
    "n = 200                                                             # 만들 이미지들의 장수\n",
    "l = 5                                                               # 만들 이미지 문자열의 길이\n",
    "\n",
    "for i in range(n):\n",
    "    \n",
    "    for j in range(l):\n",
    "        txt_captcha += random.choice(string_pool)                   # result에 랜덤값을 계속추가해간다\n",
    "        \n",
    "    image.generate(txt_captcha)                                     # 함수 이용하여 캡챠 text 생성\n",
    "    image.write(txt_captcha, f'{path}/data/{txt_captcha}.jpg')      # jpg파일로 캡챠 이미지 저장\n",
    "    txt_captcha = \"\"                                                # 출력 후 변수를 초기화 해준다\n",
    "    print(f'{i+1}장째 생성')                                        # 확인용 메시지"
   ]
  },
  {
   "cell_type": "code",
   "execution_count": null,
   "metadata": {},
   "outputs": [],
   "source": []
  }
 ],
 "metadata": {
  "interpreter": {
   "hash": "3b2a3e2f2f3becee12495ea02e16c44ac6a87253b3da619be1b2ce1aceff9a27"
  },
  "kernelspec": {
   "display_name": "Python 3.9.7 ('tf270gpu')",
   "language": "python",
   "name": "python3"
  },
  "language_info": {
   "codemirror_mode": {
    "name": "ipython",
    "version": 3
   },
   "file_extension": ".py",
   "mimetype": "text/x-python",
   "name": "python",
   "nbconvert_exporter": "python",
   "pygments_lexer": "ipython3",
   "version": "3.9.7"
  },
  "orig_nbformat": 4
 },
 "nbformat": 4,
 "nbformat_minor": 2
}
