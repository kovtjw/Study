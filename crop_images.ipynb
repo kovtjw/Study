{
 "cells": [
  {
   "cell_type": "markdown",
   "metadata": {},
   "source": [
    "### 파일 경로 설정하기"
   ]
  },
  {
   "cell_type": "code",
   "execution_count": 1,
   "metadata": {},
   "outputs": [],
   "source": [
    "from PIL import Image\n",
    "import os,cv2, shutil\n",
    "from tqdm.notebook import tqdm\n",
    "from glob import glob\n",
    "import numpy as np, pandas as pd\n",
    "\n",
    "# train_img_path = f'D:\\Real_dataset\\ICDAR2015/' + 'Train_img_2015'\n",
    "# train_gt_path = f'D:\\Real_dataset\\ICDAR2015/' + 'Train_gt_2015'\n",
    "# test_img_path = f'D:\\Real_dataset\\ICDAR2015/' + 'Test_img_2015'\n",
    "# test_gt_path = f'D:\\Real_dataset\\ICDAR2015/' + 'Test_gt_2015'"
   ]
  },
  {
   "cell_type": "markdown",
   "metadata": {},
   "source": [
    "### 각 폴더별 파일이름들 list로 추출 후, 폴더 생성 & 파일 복사(원본은 그냥 두고 copy)"
   ]
  },
  {
   "cell_type": "code",
   "execution_count": 2,
   "metadata": {},
   "outputs": [],
   "source": [
    "# os.makedirs('D:\\Real_dataset\\ICDAR2015/total_img',exist_ok=True)\n",
    "# os.makedirs('D:\\Real_dataset\\ICDAR2015/total_gt',exist_ok=True)\n",
    "\n",
    "# for img in tqdm(os.listdir(train_img_path)):\n",
    "#     shutil.copy(f'{train_img_path}/{img}',f'D:\\Real_dataset\\ICDAR2015/total_img/{img}')\n",
    "\n",
    "# for img in tqdm(os.listdir(test_img_path)):\n",
    "#     shutil.copy(f'{test_img_path}/{img}',f\"D:\\Real_dataset\\ICDAR2015/total_img/img_{int(img.split('_')[1].split('.')[0]) + 1000}.jpg\")\n",
    "\n",
    "# for gt in tqdm(os.listdir(train_gt_path)):\n",
    "#     shutil.copy(f'{train_gt_path}/{gt}',f'D:\\Real_dataset\\ICDAR2015/total_gt/{gt}')\n",
    "\n",
    "# for gt in tqdm(os.listdir(test_gt_path)):\n",
    "#     shutil.copy(f'{test_gt_path}/{gt}',f\"D:\\Real_dataset\\ICDAR2015/total_gt/gt_img_{int(gt.split('_')[2].split('.')[0]) + 1000}.txt\")"
   ]
  },
  {
   "cell_type": "markdown",
   "metadata": {},
   "source": [
    "### 이미지경로와 gt경로 합친 후, rect값,label값 추출\n",
    "원본 이미지1장과 그 1장에 대한 textbox의 좌표값을 1세트로 묶어서 for문 실행"
   ]
  },
  {
   "cell_type": "code",
   "execution_count": 3,
   "metadata": {},
   "outputs": [],
   "source": [
    "img_list = pd.DataFrame(glob('D:\\Real_dataset\\ICDAR2015/total_img/*'))\n",
    "gt_list = pd.DataFrame(glob('D:\\Real_dataset\\ICDAR2015/total_gt/*'))\n",
    "\n",
    "total_list = np.array(pd.concat([img_list,gt_list],axis=1))\n",
    "\n",
    "def extract_vertices(lines):\n",
    "\tlabels = []\n",
    "\tvertices = []\n",
    " \n",
    "\tfor line in lines:\n",
    "\t\tvertices.append(list(map(int,line.rstrip('\\n').lstrip('\\ufeff').split(',')[:8])))\n",
    "\t\tlabels.append(0 if '###' in line else line.split(',')[-1].rstrip('\\n'))\n",
    "  \n",
    "\tlabels = pd.DataFrame(labels,columns=['labels'])\n",
    "\tvertices = pd.DataFrame({'vertices':vertices})\n",
    " \n",
    "\tinfor = pd.concat([labels,vertices],axis=1)\n",
    " \n",
    "\tdel_index = infor[infor['labels']==0].index\n",
    "\tinfor.drop(del_index,inplace=True)\n",
    "\tinfor = np.array(infor)\n",
    "\t\n",
    "\treturn infor"
   ]
  },
  {
   "cell_type": "markdown",
   "metadata": {},
   "source": [
    "### crop 진행 "
   ]
  },
  {
   "cell_type": "code",
   "execution_count": 4,
   "metadata": {},
   "outputs": [],
   "source": [
    "\n",
    "for path in total_list:\n",
    "    img_path = path[0]\n",
    "    gt_path = path[1]\n",
    "       \n",
    "    with open(f'{gt_path}', 'r', encoding='UTF-8') as f:\n",
    "        lines = f.readlines()\n",
    "        \n",
    "    infor = extract_vertices(lines)\n",
    "    \n",
    "    # 실질적으로 자르는 부분은 여기가 전부다.\n",
    "    # 1장의 이미지를 imread로 읽고 그 이미지를 copy로 복사하고 원하는 부분의 x,y좌표를 찍어서\n",
    "    # boundingRect로 그려서 imwrite로 저장\n",
    "    crop_img = cv2.imread(img_path)\n",
    "\n",
    "    for lv in infor:\n",
    "        label = lv[0]\n",
    "        vertice = lv[1]\n",
    "        \n",
    "        pts = np.array([ [vertice[0],vertice[1]], [vertice[2],vertice[3]], [vertice[4],vertice[5]], [vertice[6],vertice[7]] ])\n",
    "        \n",
    "        rect = cv2.boundingRect(pts)\n",
    "        x,y,w,h = rect\n",
    "        croped = crop_img[y:y+h, x:x+w].copy()\n",
    "\n",
    "        cv2.imwrite(f\"D:\\Real_dataset\\ICDAR2015\\crop/{label}.png\", croped)"
   ]
  }
 ],
 "metadata": {
  "interpreter": {
   "hash": "2824d6a5acf40c9e4a09460bb6eb577501894647b44aaf20da9775fd78e7fe91"
  },
  "kernelspec": {
   "display_name": "Python 3.9.7 ('tf270gpu')",
   "language": "python",
   "name": "python3"
  },
  "language_info": {
   "codemirror_mode": {
    "name": "ipython",
    "version": 3
   },
   "file_extension": ".py",
   "mimetype": "text/x-python",
   "name": "python",
   "nbconvert_exporter": "python",
   "pygments_lexer": "ipython3",
   "version": "3.9.7"
  },
  "orig_nbformat": 4
 },
 "nbformat": 4,
 "nbformat_minor": 2
}
